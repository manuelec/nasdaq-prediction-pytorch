{
  "cells": [
    {
      "cell_type": "markdown",
      "metadata": {
        "id": "view-in-github",
        "colab_type": "text"
      },
      "source": [
        "<a href=\"https://colab.research.google.com/github/manuelec/nasdaq-prediction-pytorch/blob/main/AutoGluon_Time_Series_Predicting_NASDAQ.ipynb\" target=\"_parent\"><img src=\"https://colab.research.google.com/assets/colab-badge.svg\" alt=\"Open In Colab\"/></a>"
      ]
    },
    {
      "cell_type": "markdown",
      "metadata": {
        "id": "feR7QXyUXqHw"
      },
      "source": [
        "# Dataset Creation"
      ]
    },
    {
      "cell_type": "code",
      "execution_count": 1,
      "metadata": {
        "collapsed": true,
        "id": "GB-zaWaANVT0"
      },
      "outputs": [],
      "source": [
        "# Install yfinance\n",
        "# !pip install yfinance pandas-datareader"
      ]
    },
    {
      "cell_type": "code",
      "execution_count": 2,
      "metadata": {
        "id": "TjHiiTqRNdot"
      },
      "outputs": [],
      "source": [
        "#@title Import libraries\n",
        "import yfinance as yf\n",
        "import pandas_datareader.data as web\n",
        "import pandas as pd\n",
        "import yfinance as yf\n",
        "import pandas_datareader.data as web\n",
        "from google.colab import auth\n",
        "from google.auth import default\n",
        "import gspread\n",
        "import matplotlib.pyplot as plt\n",
        "import seaborn as sns\n",
        "from statsmodels.tsa.seasonal import seasonal_decompose\n",
        "from sklearn.preprocessing import StandardScaler\n",
        "import pandas as pd\n",
        "import numpy as np\n",
        "import matplotlib.pyplot as plt\n",
        "from sklearn.preprocessing import MinMaxScaler\n",
        "from torch.utils.data import Dataset, DataLoader\n",
        "from torch.optim.lr_scheduler import ReduceLROnPlateau\n",
        "import torch\n",
        "import torch.nn as nn\n",
        "import torch.optim as optim\n",
        "from sklearn.metrics import mean_squared_error, mean_absolute_error, r2_score, root_mean_squared_error\n",
        "import copy\n",
        "import torch.nn.utils\n",
        "import torch.nn.functional as F\n",
        "import random\n",
        "from torch.utils.data import DataLoader, TensorDataset"
      ]
    },
    {
      "cell_type": "code",
      "execution_count": 3,
      "metadata": {
        "colab": {
          "base_uri": "https://localhost:8080/"
        },
        "id": "74WRNwzkNe2z",
        "outputId": "b9dce976-d271-4f17-e7f8-b411e7a34bb7"
      },
      "outputs": [
        {
          "output_type": "stream",
          "name": "stderr",
          "text": [
            "[*********************100%***********************]  1 of 1 completed\n",
            "[*********************100%***********************]  1 of 1 completed\n"
          ]
        }
      ],
      "source": [
        "#@title Download Data from yfinance\n",
        "start_date = \"2018-01-02\"\n",
        "end_date = \"2024-12-13\"\n",
        "\n",
        "# Download NASDAQ and S&P 500 data from Yahoo Finance\n",
        "nasdaq_data = yf.download(\"^IXIC\", start=start_date, end=end_date)  # ^IXIC is the ticker for NASDAQ\n",
        "sp500_data = yf.download(\"^GSPC\", start=start_date, end=end_date)  # ^GSPC is the ticker for S&P 500\n",
        "\n",
        "# Download Treasury yield and VIX from FRED\n",
        "treasury_yield = web.DataReader(\"DGS10\", \"fred\", start_date, end_date)\n",
        "vix = web.DataReader(\"VIXCLS\", \"fred\", start_date, end_date)"
      ]
    },
    {
      "cell_type": "code",
      "execution_count": 4,
      "metadata": {
        "id": "rGhOeZ_8ln-B",
        "colab": {
          "base_uri": "https://localhost:8080/"
        },
        "outputId": "3d609cce-7345-479f-e6c2-dbab2151e100"
      },
      "outputs": [
        {
          "output_type": "stream",
          "name": "stdout",
          "text": [
            "        Date  nasdaq_close  sp500_close  DGS10  VIXCLS\n",
            "0 2018-01-02   7006.899902  2695.810059   2.46    9.77\n",
            "1 2018-01-03   7065.529785  2713.060059   2.44    9.15\n",
            "2 2018-01-04   7077.910156  2723.989990   2.46    9.22\n",
            "3 2018-01-05   7136.560059  2743.149902   2.47    9.22\n",
            "4 2018-01-08   7157.390137  2747.709961   2.49    9.52\n"
          ]
        }
      ],
      "source": [
        "#@title Dataframe preparation\n",
        "# Rename columns for clarity and to avoid duplicates\n",
        "nasdaq_data = nasdaq_data.rename(columns={\"Close\": \"nasdaq_close\"})\n",
        "sp500_data = sp500_data.rename(columns={\"Close\": \"sp500_close\"})\n",
        "\n",
        "# Select the correct columns using the MultiIndex\n",
        "nasdaq_close = nasdaq_data[('nasdaq_close', '^IXIC')]  # Accessing 'nasdaq_close' under 'Price' level and '^IXIC' under 'Ticker' level\n",
        "sp500_close = sp500_data[('sp500_close', '^GSPC')]  # Accessing 'sp500_close' under 'Price' level and '^GSPC' under 'Ticker' level\n",
        "\n",
        "# Convert the Series to DataFrames\n",
        "nasdaq_close = pd.DataFrame(nasdaq_close)\n",
        "sp500_close = pd.DataFrame(sp500_close)\n",
        "\n",
        "# Merge the DataFrames\n",
        "combined_df = nasdaq_close\n",
        "combined_df = combined_df.join(sp500_close, how=\"left\")\n",
        "\n",
        "# Reset the index and flatten the MultiIndex columns\n",
        "combined_df = combined_df.reset_index()\n",
        "combined_df.columns = combined_df.columns.to_flat_index()\n",
        "\n",
        "# Rename the columns\n",
        "combined_df = combined_df.rename(\n",
        "    columns={\n",
        "        (\"Date\", \"\"): \"Date\",\n",
        "        (\"nasdaq_close\", \"^IXIC\"): \"nasdaq_close\",\n",
        "        (\"sp500_close\", \"^GSPC\"): \"sp500_close\",\n",
        "    }\n",
        ")\n",
        "\n",
        "# Convert 'Date'\n",
        "combined_df['Date'] = pd.to_datetime(combined_df['Date']).dt.tz_localize(None)\n",
        "\n",
        "# Join with treasury_yield and vix\n",
        "combined_df = combined_df.join(treasury_yield, how=\"left\", on=\"Date\")\n",
        "combined_df = combined_df.join(vix, how=\"left\", on=\"Date\")\n",
        "\n",
        "# Handle missing values (if any)\n",
        "combined_df = combined_df.ffill()\n",
        "\n",
        "# Print and check\n",
        "print(combined_df.head())"
      ]
    },
    {
      "cell_type": "code",
      "source": [
        "#@title Enhanced technical indicators\n",
        "def calculate_rsi(prices, periods=14):\n",
        "    delta = prices.diff()\n",
        "    gain = (delta.where(delta > 0, 0)).rolling(window=periods).mean()\n",
        "    loss = (-delta.where(delta < 0, 0)).rolling(window=periods).mean()\n",
        "    rs = gain / loss\n",
        "    return 100 - (100 / (1 + rs))\n",
        "\n",
        "def calculate_bollinger_bands(prices, window=20, num_std=2):\n",
        "    rolling_mean = prices.rolling(window=window).mean()\n",
        "    rolling_std = prices.rolling(window=window).std()\n",
        "    upper_band = rolling_mean + (rolling_std * num_std)\n",
        "    lower_band = rolling_mean - (rolling_std * num_std)\n",
        "    return upper_band, lower_band\n",
        "\n",
        "def calculate_macd(prices, fast=12, slow=26, signal=9):\n",
        "    exp1 = prices.ewm(span=fast, adjust=False).mean()\n",
        "    exp2 = prices.ewm(span=slow, adjust=False).mean()\n",
        "    macd = exp1 - exp2\n",
        "    signal_line = macd.ewm(span=signal, adjust=False).mean()\n",
        "    return macd, signal_line\n",
        "\n",
        "def calculate_atr(prices, periods=14):\n",
        "    high = prices.rolling(window=periods).max()\n",
        "    low = prices.rolling(window=periods).min()\n",
        "    tr = high - low\n",
        "    return tr.rolling(window=periods).mean()\n",
        "\n",
        "def create_features(data):\n",
        "    df = data.copy()\n",
        "\n",
        "    # Price-based features\n",
        "    df['log_nasdaq'] = np.log(df['nasdaq_close'])\n",
        "    df['log_sp500'] = np.log(df['sp500_close'])\n",
        "    df['nasdaq_returns'] = df['nasdaq_close'].pct_change()\n",
        "    df['sp500_returns'] = df['sp500_close'].pct_change()\n",
        "\n",
        "    # Moving averages\n",
        "    df['nasdaq_ma20'] = df['nasdaq_close'].rolling(window=20).mean()\n",
        "    df['nasdaq_ma50'] = df['nasdaq_close'].rolling(window=50).mean()\n",
        "    df['sp500_ma50'] = df['sp500_close'].rolling(window=50).mean()\n",
        "\n",
        "    # Volatility indicators\n",
        "    df['nasdaq_volatility'] = df['nasdaq_returns'].rolling(window=21).std()\n",
        "    df['upper_band'], df['lower_band'] = calculate_bollinger_bands(df['nasdaq_close'])\n",
        "    df['atr'] = calculate_atr(df['nasdaq_close'])\n",
        "\n",
        "    # Momentum indicators\n",
        "    df['rsi'] = calculate_rsi(df['nasdaq_close'])\n",
        "    df['macd'], df['macd_signal'] = calculate_macd(df['nasdaq_close'])\n",
        "\n",
        "    # Market relationship indicators\n",
        "    df['relative_strength'] = df['nasdaq_close'] / df['sp500_close']\n",
        "\n",
        "    # Fill NaN values\n",
        "    df = df.bfill()\n",
        "    df = df.ffill()\n",
        "\n",
        "    return df"
      ],
      "metadata": {
        "id": "sqI826vK_GVH"
      },
      "execution_count": 5,
      "outputs": []
    },
    {
      "cell_type": "code",
      "source": [
        "#@title Create enhanced (selected only) features\n",
        "df = create_features(combined_df)\n",
        "print(df.columns)"
      ],
      "metadata": {
        "colab": {
          "base_uri": "https://localhost:8080/"
        },
        "id": "5Xlmtkd9dAac",
        "outputId": "83ec5304-05e8-4ea2-9aa2-e7a3a12e73a5"
      },
      "execution_count": 6,
      "outputs": [
        {
          "output_type": "stream",
          "name": "stdout",
          "text": [
            "Index(['Date', 'nasdaq_close', 'sp500_close', 'DGS10', 'VIXCLS', 'log_nasdaq',\n",
            "       'log_sp500', 'nasdaq_returns', 'sp500_returns', 'nasdaq_ma20',\n",
            "       'nasdaq_ma50', 'sp500_ma50', 'nasdaq_volatility', 'upper_band',\n",
            "       'lower_band', 'atr', 'rsi', 'macd', 'macd_signal', 'relative_strength'],\n",
            "      dtype='object')\n"
          ]
        }
      ]
    },
    {
      "cell_type": "markdown",
      "source": [
        "- uncomment if needed to export to Google Sheet, else leave it"
      ],
      "metadata": {
        "id": "6zasR14aZyK5"
      }
    },
    {
      "cell_type": "code",
      "source": [
        "#@title Export to Google Sheet and CSV locally\n",
        "# # !pip install gspread oauth2client\n",
        "\n",
        "# # Authenticate and create the Google Sheets connection\n",
        "# auth.authenticate_user()\n",
        "# creds, _ = default()\n",
        "# gc = gspread.authorize(creds)\n",
        "\n",
        "# # Create a new spreadsheet\n",
        "# sh = gc.create('Combined_Dataset')\n",
        "\n",
        "# # Open the spreadsheet\n",
        "# worksheet = gc.open('Combined_Dataset').sheet1\n",
        "\n",
        "# # Convert 'Date' column to string before exporting\n",
        "# combined_df['date'] = combined_df['date'].astype(str)\n",
        "\n",
        "# # Export the DataFrame to Google Sheets\n",
        "# worksheet.update([combined_df.columns.values.tolist()] + combined_df.values.tolist())\n",
        "\n",
        "# # Get the URL of the newly created spreadsheet\n",
        "# spreadsheet_url = sh.url\n",
        "# print(f\"Spreadsheet URL: {spreadsheet_url}\")\n",
        "\n",
        "# exporting as csv for covenience in local folder\n",
        "# combined_df.to_csv('./Combined_Dataset.csv', index=False)"
      ],
      "metadata": {
        "id": "UBZegj-AOM09",
        "cellView": "form"
      },
      "execution_count": 7,
      "outputs": []
    },
    {
      "cell_type": "markdown",
      "source": [
        "\n",
        "\n",
        "---\n",
        "\n"
      ],
      "metadata": {
        "id": "UNVHOHMIIOU-"
      }
    },
    {
      "cell_type": "code",
      "source": [
        "#@title Dates check\n",
        "first_date = df['Date'].min()\n",
        "last_date = df['Date'].max()\n",
        "\n",
        "# Create a date range representing all business days between the first and last dates\n",
        "date_range = pd.date_range(start=first_date, end=last_date, freq='B')\n",
        "\n",
        "# Calculate the number of missing days\n",
        "missing_days = len(date_range) - len(df)\n",
        "\n",
        "print(f\"First Date: {first_date}\")\n",
        "print(f\"Last Date: {last_date}\")\n",
        "print(f\"Number of missing days due to business days only: {missing_days}\")"
      ],
      "metadata": {
        "colab": {
          "base_uri": "https://localhost:8080/"
        },
        "id": "NsW5xLXYcl6K",
        "outputId": "fea20a0a-51bb-4b54-988d-a057fb664d4e"
      },
      "execution_count": 8,
      "outputs": [
        {
          "output_type": "stream",
          "name": "stdout",
          "text": [
            "First Date: 2018-01-02 00:00:00\n",
            "Last Date: 2024-12-12 00:00:00\n",
            "Number of missing days due to business days only: 64\n"
          ]
        }
      ]
    },
    {
      "cell_type": "code",
      "source": [
        "df.shape"
      ],
      "metadata": {
        "colab": {
          "base_uri": "https://localhost:8080/"
        },
        "id": "2LpoSAc-pV94",
        "outputId": "24e368ce-0414-4d6d-c299-c5f682509af6"
      },
      "execution_count": 17,
      "outputs": [
        {
          "output_type": "execute_result",
          "data": {
            "text/plain": [
              "(1749, 21)"
            ]
          },
          "metadata": {},
          "execution_count": 17
        }
      ]
    },
    {
      "cell_type": "markdown",
      "source": [
        "\n",
        "\n",
        "---\n",
        "\n"
      ],
      "metadata": {
        "id": "dCPQlq-HWOIa"
      }
    },
    {
      "cell_type": "code",
      "source": [
        "# !pip install autogluon"
      ],
      "metadata": {
        "id": "Rln9Ai2Cautz",
        "collapsed": true
      },
      "execution_count": 9,
      "outputs": []
    },
    {
      "cell_type": "code",
      "source": [
        "from autogluon.timeseries import TimeSeriesDataFrame, TimeSeriesPredictor"
      ],
      "metadata": {
        "id": "ASmhIGFqZnFD"
      },
      "execution_count": 10,
      "outputs": []
    },
    {
      "cell_type": "code",
      "source": [
        "# column item_id required by Autogluon\n",
        "df['item_id'] = 'nasdaq'  # You can use any constant value here"
      ],
      "metadata": {
        "id": "83MTpWKjcp3C"
      },
      "execution_count": 11,
      "outputs": []
    },
    {
      "cell_type": "code",
      "source": [
        "#@title Create the time series dataframe for Autogluon\n",
        "ts_data = TimeSeriesDataFrame.from_data_frame(\n",
        "    df=df,\n",
        "    id_column='item_id',  # If you have multiple time series, otherwise use a constant\n",
        "    timestamp_column=\"Date\",\n",
        ")\n",
        "\n",
        "ts_data = ts_data.convert_frequency(freq=\"B\")"
      ],
      "metadata": {
        "id": "vMUZJfkvatqz"
      },
      "execution_count": 12,
      "outputs": []
    },
    {
      "cell_type": "code",
      "source": [
        "ts_data.shape"
      ],
      "metadata": {
        "colab": {
          "base_uri": "https://localhost:8080/"
        },
        "id": "yYGRjL5SpkbK",
        "outputId": "4dd55435-eec3-45b7-a7b1-65bfbe421bdf"
      },
      "execution_count": 18,
      "outputs": [
        {
          "output_type": "execute_result",
          "data": {
            "text/plain": [
              "(1813, 19)"
            ]
          },
          "metadata": {},
          "execution_count": 18
        }
      ]
    },
    {
      "cell_type": "code",
      "source": [
        "#@title Set Prediction Length\n",
        "prediction_length = 30"
      ],
      "metadata": {
        "id": "K11oyANcbqSY"
      },
      "execution_count": 13,
      "outputs": []
    },
    {
      "cell_type": "markdown",
      "source": [
        "\n",
        "\n",
        "---\n",
        "\n"
      ],
      "metadata": {
        "id": "8kI5gUVufhBQ"
      }
    },
    {
      "cell_type": "code",
      "source": [
        "#@title Select features for model input\n",
        "features = [\n",
        "       'sp500_close', 'DGS10', 'VIXCLS', 'log_nasdaq',\n",
        "       'log_sp500', 'nasdaq_returns', 'sp500_returns', 'nasdaq_ma20',\n",
        "       'nasdaq_ma50', 'sp500_ma50', 'nasdaq_volatility', 'upper_band',\n",
        "       'lower_band', 'atr', 'rsi', 'macd', 'macd_signal', 'relative_strength'\n",
        "]\n",
        "\n",
        "target = 'nasdaq_close'"
      ],
      "metadata": {
        "id": "5Xb3UlUdGyUH"
      },
      "execution_count": 14,
      "outputs": []
    },
    {
      "cell_type": "code",
      "source": [
        "#@title Set the predictor\n",
        "predictor = TimeSeriesPredictor(\n",
        "    prediction_length=prediction_length,\n",
        "    target=target,\n",
        "    known_covariates_names=features,\n",
        "    freq=\"B\"  # \"B\" for business days\n",
        "\n",
        ")"
      ],
      "metadata": {
        "id": "ecVaJDIyGyUH"
      },
      "execution_count": 15,
      "outputs": []
    },
    {
      "cell_type": "code",
      "source": [
        "#@title Fit the predictor and start training\n",
        "predictor.fit(\n",
        "    train_data=ts_data,\n",
        "    num_val_windows=3,\n",
        "    # presets=\"medium_quality\",  # You can choose from 'best_quality', 'medium_quality', 'low_quality'\n",
        "    time_limit=1800,  # Time limit in seconds for training\n",
        "    hyperparameters={\n",
        "        # \"ETS\": {},\n",
        "        \"AutoETSModel\":{},\n",
        "        # \"ARIMA\": {},\n",
        "        \"AutoARIMAModel\":{},\n",
        "        \"DeepAR\": {},\n",
        "        \"TemporalFusionTransformer\": {},\n",
        "        \"TiDEModel\":{},\n",
        "        \"Chronos\": [\n",
        "            {\"model_path\": \"bolt_small\", \"ag_args\": {\"name_suffix\": \"ZeroShot\"}},\n",
        "            {\"model_path\": \"bolt_small\",\n",
        "             \"fine_tune\": True,\n",
        "             \"target_scaler\": \"standard\",\n",
        "             \"covariate_regressor\": \"CAT\",\n",
        "             \"ag_args\": {\"name_suffix\": \"FineTunedWithRegressor\"}},\n",
        "        ]\n",
        "        }\n",
        ")"
      ],
      "metadata": {
        "colab": {
          "base_uri": "https://localhost:8080/",
          "height": 1000,
          "referenced_widgets": [
            "91a15c396fd149cab6c6e965479a35df",
            "56e5c4bf161e476faf4f4a60182e07c3",
            "bde9176bcc804dd2b7c934e29f82647a",
            "c9ba4d3412774439bde9b3085b33f4dc",
            "d5dd273f432d4af28fab2f1aabc1da59",
            "916035d1b7604788866ca83d9f555860",
            "ba73b04366254cf6ac3921c220e51f3a",
            "6f7330d851f1447598788e6f8cadf4c6",
            "b20fad7e503a4e0e81c8292bfc8f412a",
            "b895dc37016545d8a9b3005ab3329bcb",
            "8be011d0799d45bfb5bcba73e62e4dc7",
            "a81022b4d7ef4f5aaebeed347e7fe0cf",
            "5a2a5945a6984acca3e3e7d43c550369",
            "170f78311f6d4596921232088a5c44c1",
            "083cf5246f91453d86c8f64fff30d1db",
            "0e6396e540614e8ab770c3008fd03fbf",
            "62287c41f2de46a2b4821a6e453e5756",
            "0436cfbf94be4f72a81d280f356f2799",
            "b30f05f4cde04e9589a9ec2a03ae13f5",
            "fb8b888adedd4240b8d5db77ddffbf97",
            "609c520cfc6a40a3b823513629818b92",
            "0559a22197684365b1dec7bb7b82a2e5"
          ]
        },
        "collapsed": true,
        "outputId": "34209813-2769-440d-c1a8-4b84afbc52e5",
        "id": "T7acQS1pGyUH"
      },
      "execution_count": 16,
      "outputs": [
        {
          "output_type": "stream",
          "name": "stderr",
          "text": [
            "Beginning AutoGluon training... Time limit = 1800s\n",
            "AutoGluon will save models to '/content/AutogluonModels/ag-20241216_221936'\n",
            "=================== System Info ===================\n",
            "AutoGluon Version:  1.2\n",
            "Python Version:     3.10.12\n",
            "Operating System:   Linux\n",
            "Platform Machine:   x86_64\n",
            "Platform Version:   #1 SMP PREEMPT_DYNAMIC Thu Jun 27 21:05:47 UTC 2024\n",
            "CPU Count:          2\n",
            "GPU Count:          0\n",
            "Memory Avail:       10.79 GB / 12.67 GB (85.1%)\n",
            "Disk Space Avail:   74.20 GB / 107.72 GB (68.9%)\n",
            "===================================================\n",
            "\n",
            "Fitting with arguments:\n",
            "{'enable_ensemble': True,\n",
            " 'eval_metric': WQL,\n",
            " 'freq': 'B',\n",
            " 'hyperparameters': {'AutoARIMAModel': {},\n",
            "                     'AutoETSModel': {},\n",
            "                     'Chronos': [{'ag_args': {'name_suffix': 'ZeroShot'},\n",
            "                                  'model_path': 'bolt_small'},\n",
            "                                 {'ag_args': {'name_suffix': 'FineTunedWithRegressor'},\n",
            "                                  'covariate_regressor': 'CAT',\n",
            "                                  'fine_tune': True,\n",
            "                                  'model_path': 'bolt_small',\n",
            "                                  'target_scaler': 'standard'}],\n",
            "                     'DeepAR': {},\n",
            "                     'TemporalFusionTransformer': {},\n",
            "                     'TiDEModel': {}},\n",
            " 'known_covariates_names': ['sp500_close',\n",
            "                            'DGS10',\n",
            "                            'VIXCLS',\n",
            "                            'log_nasdaq',\n",
            "                            'log_sp500',\n",
            "                            'nasdaq_returns',\n",
            "                            'sp500_returns',\n",
            "                            'nasdaq_ma20',\n",
            "                            'nasdaq_ma50',\n",
            "                            'sp500_ma50',\n",
            "                            'nasdaq_volatility',\n",
            "                            'upper_band',\n",
            "                            'lower_band',\n",
            "                            'atr',\n",
            "                            'rsi',\n",
            "                            'macd',\n",
            "                            'macd_signal',\n",
            "                            'relative_strength'],\n",
            " 'num_val_windows': 3,\n",
            " 'prediction_length': 30,\n",
            " 'quantile_levels': [0.1, 0.2, 0.3, 0.4, 0.5, 0.6, 0.7, 0.8, 0.9],\n",
            " 'random_seed': 123,\n",
            " 'refit_every_n_windows': 1,\n",
            " 'refit_full': False,\n",
            " 'skip_model_selection': False,\n",
            " 'target': 'nasdaq_close',\n",
            " 'time_limit': 1800,\n",
            " 'verbosity': 2}\n",
            "\n",
            "Provided train_data has 1813 rows (NaN fraction=3.5%), 1 time series. Median time series length is 1813 (min=1813, max=1813). \n",
            "\n",
            "Provided data contains following columns:\n",
            "\ttarget: 'nasdaq_close'\n",
            "\tknown_covariates:\n",
            "\t\tcategorical:        []\n",
            "\t\tcontinuous (float): ['sp500_close', 'DGS10', 'VIXCLS', 'log_nasdaq', 'log_sp500', 'nasdaq_returns', ...]\n",
            "\n",
            "To learn how to fix incorrectly inferred types, please see documentation for TimeSeriesPredictor.fit\n",
            "\n",
            "AutoGluon will gauge predictive performance using evaluation metric: 'WQL'\n",
            "\tThis metric's sign has been flipped to adhere to being higher_is_better. The metric score can be multiplied by -1 to get the metric value.\n",
            "===================================================\n",
            "\n",
            "Starting training. Start time is 2024-12-16 22:20:13\n",
            "Models that will be trained: ['AutoETS', 'AutoARIMA', 'ChronosZeroShot[bolt_small]', 'ChronosFineTunedWithRegressor[bolt_small]', 'TemporalFusionTransformer', 'DeepAR', 'TiDE']\n",
            "Training timeseries model AutoETS. Training for up to 225.0s of the 1799.9s of remaining time.\n",
            "\t-0.0263       = Validation score (-WQL)\n",
            "\t6.56    s     = Training runtime\n",
            "\t1.13    s     = Validation (prediction) runtime\n",
            "Training timeseries model AutoARIMA. Training for up to 256.0s of the 1792.2s of remaining time.\n",
            "\t-0.0309       = Validation score (-WQL)\n",
            "\t0.75    s     = Training runtime\n",
            "\t0.28    s     = Validation (prediction) runtime\n",
            "Training timeseries model ChronosZeroShot[bolt_small]. Training for up to 298.5s of the 1791.2s of remaining time.\n"
          ]
        },
        {
          "output_type": "display_data",
          "data": {
            "text/plain": [
              "config.json:   0%|          | 0.00/1.12k [00:00<?, ?B/s]"
            ],
            "application/vnd.jupyter.widget-view+json": {
              "version_major": 2,
              "version_minor": 0,
              "model_id": "91a15c396fd149cab6c6e965479a35df"
            }
          },
          "metadata": {}
        },
        {
          "output_type": "display_data",
          "data": {
            "text/plain": [
              "model.safetensors:   0%|          | 0.00/191M [00:00<?, ?B/s]"
            ],
            "application/vnd.jupyter.widget-view+json": {
              "version_major": 2,
              "version_minor": 0,
              "model_id": "a81022b4d7ef4f5aaebeed347e7fe0cf"
            }
          },
          "metadata": {}
        },
        {
          "output_type": "stream",
          "name": "stderr",
          "text": [
            "\t-0.0257       = Validation score (-WQL)\n",
            "\t26.77   s     = Training runtime\n",
            "\t1.83    s     = Validation (prediction) runtime\n",
            "Training timeseries model ChronosFineTunedWithRegressor[bolt_small]. Training for up to 352.5s of the 1762.5s of remaining time.\n",
            "\tFine-tuning on the CPU detected. We recommend using a GPU for faster fine-tuning of Chronos.\n",
            "\tSaving fine-tuned model to /content/AutogluonModels/ag-20241216_221936/models/ChronosFineTunedWithRegressor[bolt_small]/W0/fine-tuned-ckpt\n",
            "\tFine-tuning on the CPU detected. We recommend using a GPU for faster fine-tuning of Chronos.\n",
            "\tSaving fine-tuned model to /content/AutogluonModels/ag-20241216_221936/models/ChronosFineTunedWithRegressor[bolt_small]/W1/fine-tuned-ckpt\n",
            "\tFine-tuning on the CPU detected. We recommend using a GPU for faster fine-tuning of Chronos.\n",
            "\tSaving fine-tuned model to /content/AutogluonModels/ag-20241216_221936/models/ChronosFineTunedWithRegressor[bolt_small]/W2/fine-tuned-ckpt\n",
            "\t-0.0202       = Validation score (-WQL)\n",
            "\t340.61  s     = Training runtime\n",
            "\t0.24    s     = Validation (prediction) runtime\n",
            "Training timeseries model TemporalFusionTransformer. Training for up to 355.4s of the 1421.7s of remaining time.\n",
            "\tTime limit adjusted due to model hyperparameters: 122.25s -> 110.03s (ag.max_time_limit=None, ag.max_time_limit_ratio=0.9, ag.min_time_limit=0)\n",
            "\tTime limit adjusted due to model hyperparameters: 134.02s -> 120.62s (ag.max_time_limit=None, ag.max_time_limit_ratio=0.9, ag.min_time_limit=0)\n",
            "\t-0.0067       = Validation score (-WQL)\n",
            "\t342.39  s     = Training runtime\n",
            "\t0.05    s     = Validation (prediction) runtime\n",
            "Training timeseries model DeepAR. Training for up to 359.7s of the 1079.2s of remaining time.\n",
            "\tTime limit adjusted due to model hyperparameters: 119.85s -> 107.86s (ag.max_time_limit=None, ag.max_time_limit_ratio=0.9, ag.min_time_limit=0)\n",
            "\tTime limit adjusted due to model hyperparameters: 125.45s -> 112.91s (ag.max_time_limit=None, ag.max_time_limit_ratio=0.9, ag.min_time_limit=0)\n",
            "\tTime limit adjusted due to model hyperparameters: 137.36s -> 123.63s (ag.max_time_limit=None, ag.max_time_limit_ratio=0.9, ag.min_time_limit=0)\n",
            "\t-0.0065       = Validation score (-WQL)\n",
            "\t346.30  s     = Training runtime\n",
            "\t0.23    s     = Validation (prediction) runtime\n",
            "Training timeseries model TiDE. Training for up to 366.3s of the 732.6s of remaining time.\n",
            "\tTime limit adjusted due to model hyperparameters: 122.04s -> 109.84s (ag.max_time_limit=None, ag.max_time_limit_ratio=0.9, ag.min_time_limit=0)\n",
            "\tTime limit adjusted due to model hyperparameters: 127.96s -> 115.16s (ag.max_time_limit=None, ag.max_time_limit_ratio=0.9, ag.min_time_limit=0)\n",
            "\tTime limit adjusted due to model hyperparameters: 140.37s -> 126.33s (ag.max_time_limit=None, ag.max_time_limit_ratio=0.9, ag.min_time_limit=0)\n",
            "\t-0.0163       = Validation score (-WQL)\n",
            "\t352.59  s     = Training runtime\n",
            "\t0.05    s     = Validation (prediction) runtime\n",
            "Fitting simple weighted ensemble.\n",
            "\tEnsemble weights: {'DeepAR': 0.46, 'TemporalFusionTransformer': 0.5, 'TiDE': 0.04}\n",
            "\t-0.0041       = Validation score (-WQL)\n",
            "\t3.08    s     = Training runtime\n",
            "\t0.33    s     = Validation (prediction) runtime\n",
            "Training complete. Models trained: ['AutoETS', 'AutoARIMA', 'ChronosZeroShot[bolt_small]', 'ChronosFineTunedWithRegressor[bolt_small]', 'TemporalFusionTransformer', 'DeepAR', 'TiDE', 'WeightedEnsemble']\n",
            "Total runtime: 1423.16 s\n",
            "Best model: WeightedEnsemble\n",
            "Best model score: -0.0041\n"
          ]
        },
        {
          "output_type": "execute_result",
          "data": {
            "text/plain": [
              "<autogluon.timeseries.predictor.TimeSeriesPredictor at 0x79d67979c700>"
            ]
          },
          "metadata": {},
          "execution_count": 16
        }
      ]
    },
    {
      "cell_type": "markdown",
      "source": [
        "Covariates management"
      ],
      "metadata": {
        "id": "9fcLDDQjoTxC"
      }
    },
    {
      "cell_type": "code",
      "source": [
        "predictor.leaderboard(ts_data)"
      ],
      "metadata": {
        "colab": {
          "base_uri": "https://localhost:8080/",
          "height": 317
        },
        "id": "0et4lpdJhX3q",
        "outputId": "68433b92-81df-4b12-f214-d17af873ca18"
      },
      "execution_count": 33,
      "outputs": [
        {
          "output_type": "stream",
          "name": "stderr",
          "text": [
            "Additional data provided, testing on additional data. Resulting leaderboard will be sorted according to test score (`score_test`).\n"
          ]
        },
        {
          "output_type": "execute_result",
          "data": {
            "text/plain": [
              "                                       model  score_test  score_val  \\\n",
              "0                  TemporalFusionTransformer   -0.003504  -0.006714   \n",
              "1                           WeightedEnsemble   -0.004396  -0.004148   \n",
              "2                                     DeepAR   -0.009417  -0.006480   \n",
              "3                                       TiDE   -0.011022  -0.016274   \n",
              "4  ChronosFineTunedWithRegressor[bolt_small]   -0.030578  -0.020180   \n",
              "5                                    AutoETS   -0.033525  -0.026313   \n",
              "6                ChronosZeroShot[bolt_small]   -0.035718  -0.025731   \n",
              "7                                  AutoARIMA   -0.044101  -0.030930   \n",
              "\n",
              "   pred_time_test  pred_time_val  fit_time_marginal  fit_order  \n",
              "0        0.148711       0.049216         342.391772          5  \n",
              "1        0.640046       0.326237           3.081669          8  \n",
              "2        0.381227       0.231427         346.303935          6  \n",
              "3        0.104934       0.045594         352.591889          7  \n",
              "4        1.185392       0.241041         340.612399          4  \n",
              "5        0.917642       1.133850           6.562263          1  \n",
              "6        2.104420       1.831043          26.766983          3  \n",
              "7        0.205360       0.284784           0.751397          2  "
            ],
            "text/html": [
              "\n",
              "  <div id=\"df-aceb8c0b-7a40-47f5-9333-ee60f7f90d09\" class=\"colab-df-container\">\n",
              "    <div>\n",
              "<style scoped>\n",
              "    .dataframe tbody tr th:only-of-type {\n",
              "        vertical-align: middle;\n",
              "    }\n",
              "\n",
              "    .dataframe tbody tr th {\n",
              "        vertical-align: top;\n",
              "    }\n",
              "\n",
              "    .dataframe thead th {\n",
              "        text-align: right;\n",
              "    }\n",
              "</style>\n",
              "<table border=\"1\" class=\"dataframe\">\n",
              "  <thead>\n",
              "    <tr style=\"text-align: right;\">\n",
              "      <th></th>\n",
              "      <th>model</th>\n",
              "      <th>score_test</th>\n",
              "      <th>score_val</th>\n",
              "      <th>pred_time_test</th>\n",
              "      <th>pred_time_val</th>\n",
              "      <th>fit_time_marginal</th>\n",
              "      <th>fit_order</th>\n",
              "    </tr>\n",
              "  </thead>\n",
              "  <tbody>\n",
              "    <tr>\n",
              "      <th>0</th>\n",
              "      <td>TemporalFusionTransformer</td>\n",
              "      <td>-0.003504</td>\n",
              "      <td>-0.006714</td>\n",
              "      <td>0.148711</td>\n",
              "      <td>0.049216</td>\n",
              "      <td>342.391772</td>\n",
              "      <td>5</td>\n",
              "    </tr>\n",
              "    <tr>\n",
              "      <th>1</th>\n",
              "      <td>WeightedEnsemble</td>\n",
              "      <td>-0.004396</td>\n",
              "      <td>-0.004148</td>\n",
              "      <td>0.640046</td>\n",
              "      <td>0.326237</td>\n",
              "      <td>3.081669</td>\n",
              "      <td>8</td>\n",
              "    </tr>\n",
              "    <tr>\n",
              "      <th>2</th>\n",
              "      <td>DeepAR</td>\n",
              "      <td>-0.009417</td>\n",
              "      <td>-0.006480</td>\n",
              "      <td>0.381227</td>\n",
              "      <td>0.231427</td>\n",
              "      <td>346.303935</td>\n",
              "      <td>6</td>\n",
              "    </tr>\n",
              "    <tr>\n",
              "      <th>3</th>\n",
              "      <td>TiDE</td>\n",
              "      <td>-0.011022</td>\n",
              "      <td>-0.016274</td>\n",
              "      <td>0.104934</td>\n",
              "      <td>0.045594</td>\n",
              "      <td>352.591889</td>\n",
              "      <td>7</td>\n",
              "    </tr>\n",
              "    <tr>\n",
              "      <th>4</th>\n",
              "      <td>ChronosFineTunedWithRegressor[bolt_small]</td>\n",
              "      <td>-0.030578</td>\n",
              "      <td>-0.020180</td>\n",
              "      <td>1.185392</td>\n",
              "      <td>0.241041</td>\n",
              "      <td>340.612399</td>\n",
              "      <td>4</td>\n",
              "    </tr>\n",
              "    <tr>\n",
              "      <th>5</th>\n",
              "      <td>AutoETS</td>\n",
              "      <td>-0.033525</td>\n",
              "      <td>-0.026313</td>\n",
              "      <td>0.917642</td>\n",
              "      <td>1.133850</td>\n",
              "      <td>6.562263</td>\n",
              "      <td>1</td>\n",
              "    </tr>\n",
              "    <tr>\n",
              "      <th>6</th>\n",
              "      <td>ChronosZeroShot[bolt_small]</td>\n",
              "      <td>-0.035718</td>\n",
              "      <td>-0.025731</td>\n",
              "      <td>2.104420</td>\n",
              "      <td>1.831043</td>\n",
              "      <td>26.766983</td>\n",
              "      <td>3</td>\n",
              "    </tr>\n",
              "    <tr>\n",
              "      <th>7</th>\n",
              "      <td>AutoARIMA</td>\n",
              "      <td>-0.044101</td>\n",
              "      <td>-0.030930</td>\n",
              "      <td>0.205360</td>\n",
              "      <td>0.284784</td>\n",
              "      <td>0.751397</td>\n",
              "      <td>2</td>\n",
              "    </tr>\n",
              "  </tbody>\n",
              "</table>\n",
              "</div>\n",
              "    <div class=\"colab-df-buttons\">\n",
              "\n",
              "  <div class=\"colab-df-container\">\n",
              "    <button class=\"colab-df-convert\" onclick=\"convertToInteractive('df-aceb8c0b-7a40-47f5-9333-ee60f7f90d09')\"\n",
              "            title=\"Convert this dataframe to an interactive table.\"\n",
              "            style=\"display:none;\">\n",
              "\n",
              "  <svg xmlns=\"http://www.w3.org/2000/svg\" height=\"24px\" viewBox=\"0 -960 960 960\">\n",
              "    <path d=\"M120-120v-720h720v720H120Zm60-500h600v-160H180v160Zm220 220h160v-160H400v160Zm0 220h160v-160H400v160ZM180-400h160v-160H180v160Zm440 0h160v-160H620v160ZM180-180h160v-160H180v160Zm440 0h160v-160H620v160Z\"/>\n",
              "  </svg>\n",
              "    </button>\n",
              "\n",
              "  <style>\n",
              "    .colab-df-container {\n",
              "      display:flex;\n",
              "      gap: 12px;\n",
              "    }\n",
              "\n",
              "    .colab-df-convert {\n",
              "      background-color: #E8F0FE;\n",
              "      border: none;\n",
              "      border-radius: 50%;\n",
              "      cursor: pointer;\n",
              "      display: none;\n",
              "      fill: #1967D2;\n",
              "      height: 32px;\n",
              "      padding: 0 0 0 0;\n",
              "      width: 32px;\n",
              "    }\n",
              "\n",
              "    .colab-df-convert:hover {\n",
              "      background-color: #E2EBFA;\n",
              "      box-shadow: 0px 1px 2px rgba(60, 64, 67, 0.3), 0px 1px 3px 1px rgba(60, 64, 67, 0.15);\n",
              "      fill: #174EA6;\n",
              "    }\n",
              "\n",
              "    .colab-df-buttons div {\n",
              "      margin-bottom: 4px;\n",
              "    }\n",
              "\n",
              "    [theme=dark] .colab-df-convert {\n",
              "      background-color: #3B4455;\n",
              "      fill: #D2E3FC;\n",
              "    }\n",
              "\n",
              "    [theme=dark] .colab-df-convert:hover {\n",
              "      background-color: #434B5C;\n",
              "      box-shadow: 0px 1px 3px 1px rgba(0, 0, 0, 0.15);\n",
              "      filter: drop-shadow(0px 1px 2px rgba(0, 0, 0, 0.3));\n",
              "      fill: #FFFFFF;\n",
              "    }\n",
              "  </style>\n",
              "\n",
              "    <script>\n",
              "      const buttonEl =\n",
              "        document.querySelector('#df-aceb8c0b-7a40-47f5-9333-ee60f7f90d09 button.colab-df-convert');\n",
              "      buttonEl.style.display =\n",
              "        google.colab.kernel.accessAllowed ? 'block' : 'none';\n",
              "\n",
              "      async function convertToInteractive(key) {\n",
              "        const element = document.querySelector('#df-aceb8c0b-7a40-47f5-9333-ee60f7f90d09');\n",
              "        const dataTable =\n",
              "          await google.colab.kernel.invokeFunction('convertToInteractive',\n",
              "                                                    [key], {});\n",
              "        if (!dataTable) return;\n",
              "\n",
              "        const docLinkHtml = 'Like what you see? Visit the ' +\n",
              "          '<a target=\"_blank\" href=https://colab.research.google.com/notebooks/data_table.ipynb>data table notebook</a>'\n",
              "          + ' to learn more about interactive tables.';\n",
              "        element.innerHTML = '';\n",
              "        dataTable['output_type'] = 'display_data';\n",
              "        await google.colab.output.renderOutput(dataTable, element);\n",
              "        const docLink = document.createElement('div');\n",
              "        docLink.innerHTML = docLinkHtml;\n",
              "        element.appendChild(docLink);\n",
              "      }\n",
              "    </script>\n",
              "  </div>\n",
              "\n",
              "\n",
              "<div id=\"df-fdfb621f-6e5f-4d85-9c90-74650cab1386\">\n",
              "  <button class=\"colab-df-quickchart\" onclick=\"quickchart('df-fdfb621f-6e5f-4d85-9c90-74650cab1386')\"\n",
              "            title=\"Suggest charts\"\n",
              "            style=\"display:none;\">\n",
              "\n",
              "<svg xmlns=\"http://www.w3.org/2000/svg\" height=\"24px\"viewBox=\"0 0 24 24\"\n",
              "     width=\"24px\">\n",
              "    <g>\n",
              "        <path d=\"M19 3H5c-1.1 0-2 .9-2 2v14c0 1.1.9 2 2 2h14c1.1 0 2-.9 2-2V5c0-1.1-.9-2-2-2zM9 17H7v-7h2v7zm4 0h-2V7h2v10zm4 0h-2v-4h2v4z\"/>\n",
              "    </g>\n",
              "</svg>\n",
              "  </button>\n",
              "\n",
              "<style>\n",
              "  .colab-df-quickchart {\n",
              "      --bg-color: #E8F0FE;\n",
              "      --fill-color: #1967D2;\n",
              "      --hover-bg-color: #E2EBFA;\n",
              "      --hover-fill-color: #174EA6;\n",
              "      --disabled-fill-color: #AAA;\n",
              "      --disabled-bg-color: #DDD;\n",
              "  }\n",
              "\n",
              "  [theme=dark] .colab-df-quickchart {\n",
              "      --bg-color: #3B4455;\n",
              "      --fill-color: #D2E3FC;\n",
              "      --hover-bg-color: #434B5C;\n",
              "      --hover-fill-color: #FFFFFF;\n",
              "      --disabled-bg-color: #3B4455;\n",
              "      --disabled-fill-color: #666;\n",
              "  }\n",
              "\n",
              "  .colab-df-quickchart {\n",
              "    background-color: var(--bg-color);\n",
              "    border: none;\n",
              "    border-radius: 50%;\n",
              "    cursor: pointer;\n",
              "    display: none;\n",
              "    fill: var(--fill-color);\n",
              "    height: 32px;\n",
              "    padding: 0;\n",
              "    width: 32px;\n",
              "  }\n",
              "\n",
              "  .colab-df-quickchart:hover {\n",
              "    background-color: var(--hover-bg-color);\n",
              "    box-shadow: 0 1px 2px rgba(60, 64, 67, 0.3), 0 1px 3px 1px rgba(60, 64, 67, 0.15);\n",
              "    fill: var(--button-hover-fill-color);\n",
              "  }\n",
              "\n",
              "  .colab-df-quickchart-complete:disabled,\n",
              "  .colab-df-quickchart-complete:disabled:hover {\n",
              "    background-color: var(--disabled-bg-color);\n",
              "    fill: var(--disabled-fill-color);\n",
              "    box-shadow: none;\n",
              "  }\n",
              "\n",
              "  .colab-df-spinner {\n",
              "    border: 2px solid var(--fill-color);\n",
              "    border-color: transparent;\n",
              "    border-bottom-color: var(--fill-color);\n",
              "    animation:\n",
              "      spin 1s steps(1) infinite;\n",
              "  }\n",
              "\n",
              "  @keyframes spin {\n",
              "    0% {\n",
              "      border-color: transparent;\n",
              "      border-bottom-color: var(--fill-color);\n",
              "      border-left-color: var(--fill-color);\n",
              "    }\n",
              "    20% {\n",
              "      border-color: transparent;\n",
              "      border-left-color: var(--fill-color);\n",
              "      border-top-color: var(--fill-color);\n",
              "    }\n",
              "    30% {\n",
              "      border-color: transparent;\n",
              "      border-left-color: var(--fill-color);\n",
              "      border-top-color: var(--fill-color);\n",
              "      border-right-color: var(--fill-color);\n",
              "    }\n",
              "    40% {\n",
              "      border-color: transparent;\n",
              "      border-right-color: var(--fill-color);\n",
              "      border-top-color: var(--fill-color);\n",
              "    }\n",
              "    60% {\n",
              "      border-color: transparent;\n",
              "      border-right-color: var(--fill-color);\n",
              "    }\n",
              "    80% {\n",
              "      border-color: transparent;\n",
              "      border-right-color: var(--fill-color);\n",
              "      border-bottom-color: var(--fill-color);\n",
              "    }\n",
              "    90% {\n",
              "      border-color: transparent;\n",
              "      border-bottom-color: var(--fill-color);\n",
              "    }\n",
              "  }\n",
              "</style>\n",
              "\n",
              "  <script>\n",
              "    async function quickchart(key) {\n",
              "      const quickchartButtonEl =\n",
              "        document.querySelector('#' + key + ' button');\n",
              "      quickchartButtonEl.disabled = true;  // To prevent multiple clicks.\n",
              "      quickchartButtonEl.classList.add('colab-df-spinner');\n",
              "      try {\n",
              "        const charts = await google.colab.kernel.invokeFunction(\n",
              "            'suggestCharts', [key], {});\n",
              "      } catch (error) {\n",
              "        console.error('Error during call to suggestCharts:', error);\n",
              "      }\n",
              "      quickchartButtonEl.classList.remove('colab-df-spinner');\n",
              "      quickchartButtonEl.classList.add('colab-df-quickchart-complete');\n",
              "    }\n",
              "    (() => {\n",
              "      let quickchartButtonEl =\n",
              "        document.querySelector('#df-fdfb621f-6e5f-4d85-9c90-74650cab1386 button');\n",
              "      quickchartButtonEl.style.display =\n",
              "        google.colab.kernel.accessAllowed ? 'block' : 'none';\n",
              "    })();\n",
              "  </script>\n",
              "</div>\n",
              "\n",
              "    </div>\n",
              "  </div>\n"
            ],
            "application/vnd.google.colaboratory.intrinsic+json": {
              "type": "dataframe",
              "summary": "{\n  \"name\": \"predictor\",\n  \"rows\": 8,\n  \"fields\": [\n    {\n      \"column\": \"model\",\n      \"properties\": {\n        \"dtype\": \"string\",\n        \"num_unique_values\": 8,\n        \"samples\": [\n          \"WeightedEnsemble\",\n          \"AutoETS\",\n          \"TemporalFusionTransformer\"\n        ],\n        \"semantic_type\": \"\",\n        \"description\": \"\"\n      }\n    },\n    {\n      \"column\": \"score_test\",\n      \"properties\": {\n        \"dtype\": \"number\",\n        \"std\": 0.016089574910161965,\n        \"min\": -0.044100974486137506,\n        \"max\": -0.003504469587024702,\n        \"num_unique_values\": 8,\n        \"samples\": [\n          -0.004395903940357258,\n          -0.033524698941759815,\n          -0.003504469587024702\n        ],\n        \"semantic_type\": \"\",\n        \"description\": \"\"\n      }\n    },\n    {\n      \"column\": \"score_val\",\n      \"properties\": {\n        \"dtype\": \"number\",\n        \"std\": 0.010345466018835523,\n        \"min\": -0.030929718867365896,\n        \"max\": -0.00414822899683708,\n        \"num_unique_values\": 8,\n        \"samples\": [\n          -0.00414822899683708,\n          -0.026312726572693634,\n          -0.006713857345162105\n        ],\n        \"semantic_type\": \"\",\n        \"description\": \"\"\n      }\n    },\n    {\n      \"column\": \"pred_time_test\",\n      \"properties\": {\n        \"dtype\": \"number\",\n        \"std\": 0.6826743527158348,\n        \"min\": 0.10493350028991699,\n        \"max\": 2.1044199466705322,\n        \"num_unique_values\": 8,\n        \"samples\": [\n          0.6400461196899414,\n          0.9176416397094727,\n          0.1487109661102295\n        ],\n        \"semantic_type\": \"\",\n        \"description\": \"\"\n      }\n    },\n    {\n      \"column\": \"pred_time_val\",\n      \"properties\": {\n        \"dtype\": \"number\",\n        \"std\": 0.6320342291773394,\n        \"min\": 0.045593976974487305,\n        \"max\": 1.8310425281524658,\n        \"num_unique_values\": 8,\n        \"samples\": [\n          0.3262367248535156,\n          1.133849859237671,\n          0.04921579360961914\n        ],\n        \"semantic_type\": \"\",\n        \"description\": \"\"\n      }\n    },\n    {\n      \"column\": \"fit_time_marginal\",\n      \"properties\": {\n        \"dtype\": \"number\",\n        \"std\": 179.9002717314702,\n        \"min\": 0.7513971328735352,\n        \"max\": 352.5918891429901,\n        \"num_unique_values\": 8,\n        \"samples\": [\n          3.0816686153411865,\n          6.562263250350952,\n          342.3917715549469\n        ],\n        \"semantic_type\": \"\",\n        \"description\": \"\"\n      }\n    },\n    {\n      \"column\": \"fit_order\",\n      \"properties\": {\n        \"dtype\": \"number\",\n        \"std\": 2,\n        \"min\": 1,\n        \"max\": 8,\n        \"num_unique_values\": 8,\n        \"samples\": [\n          8,\n          1,\n          5\n        ],\n        \"semantic_type\": \"\",\n        \"description\": \"\"\n      }\n    }\n  ]\n}"
            }
          },
          "metadata": {},
          "execution_count": 33
        }
      ]
    },
    {
      "cell_type": "code",
      "source": [
        "performance = predictor.evaluate(ts_data)\n",
        "print(performance)"
      ],
      "metadata": {
        "colab": {
          "base_uri": "https://localhost:8080/"
        },
        "id": "yIGNuJ_-b_DB",
        "outputId": "692defa5-b272-4e5b-f3ff-9e5335ed4c72"
      },
      "execution_count": 20,
      "outputs": [
        {
          "output_type": "stream",
          "name": "stderr",
          "text": [
            "Model not specified in predict, will default to the model with the best validation score: WeightedEnsemble\n"
          ]
        },
        {
          "output_type": "stream",
          "name": "stdout",
          "text": [
            "{'WQL': -0.004395903940357258}\n"
          ]
        }
      ]
    },
    {
      "cell_type": "code",
      "source": [
        "feature_importance = predictor.feature_importance(ts_data)\n",
        "print(feature_importance)"
      ],
      "metadata": {
        "colab": {
          "base_uri": "https://localhost:8080/"
        },
        "id": "PUD24oLwcH6v",
        "outputId": "a628c669-5bed-47ee-a1fe-bf871e8ce2cd"
      },
      "execution_count": 21,
      "outputs": [
        {
          "output_type": "stream",
          "name": "stderr",
          "text": [
            "Computing feature importance\n",
            "Subsample_size 50 is larger than the number of items in the data and will be ignored\n"
          ]
        },
        {
          "output_type": "stream",
          "name": "stdout",
          "text": [
            "                   importance     stdev    n   p99_low  p99_high\n",
            "sp500_close          0.002236  0.000065  5.0  0.002102  0.002369\n",
            "DGS10               -0.000570  0.000029  5.0 -0.000629 -0.000510\n",
            "VIXCLS               0.001973  0.000107  5.0  0.001753  0.002193\n",
            "log_nasdaq           0.005588  0.000050  5.0  0.005486  0.005690\n",
            "log_sp500            0.039751  0.000018  5.0  0.039714  0.039789\n",
            "nasdaq_returns       0.003901  0.000052  5.0  0.003795  0.004007\n",
            "sp500_returns        0.000008  0.000064  5.0 -0.000124  0.000141\n",
            "nasdaq_ma20          0.001033  0.000034  5.0  0.000962  0.001103\n",
            "nasdaq_ma50          0.000928  0.000033  5.0  0.000860  0.000997\n",
            "sp500_ma50           0.030855  0.000060  5.0  0.030732  0.030978\n",
            "nasdaq_volatility    0.000322  0.000046  5.0  0.000228  0.000415\n",
            "upper_band           0.000439  0.000080  5.0  0.000275  0.000603\n",
            "lower_band           0.001317  0.000051  5.0  0.001212  0.001422\n",
            "atr                  0.000544  0.000040  5.0  0.000461  0.000627\n",
            "rsi                  0.001926  0.000055  5.0  0.001812  0.002040\n",
            "macd                 0.013723  0.000048  5.0  0.013625  0.013821\n",
            "macd_signal          0.021466  0.000102  5.0  0.021255  0.021677\n",
            "relative_strength    0.011563  0.000076  5.0  0.011407  0.011719\n"
          ]
        }
      ]
    },
    {
      "cell_type": "code",
      "source": [
        "# Access the best model's name\n",
        "best_model_name = predictor.model_best\n",
        "print(f\"Best Model: {best_model_name}\")"
      ],
      "metadata": {
        "colab": {
          "base_uri": "https://localhost:8080/"
        },
        "id": "ffucMGadGyUI",
        "outputId": "26716a32-bc17-42ae-9f5a-4bde4102c253"
      },
      "execution_count": 22,
      "outputs": [
        {
          "output_type": "stream",
          "name": "stdout",
          "text": [
            "Best Model: WeightedEnsemble\n"
          ]
        }
      ]
    },
    {
      "cell_type": "markdown",
      "source": [
        "\n",
        "\n",
        "---\n",
        "\n"
      ],
      "metadata": {
        "id": "gUyCKiRQhclu"
      }
    },
    {
      "cell_type": "code",
      "source": [
        "future_covariates = ts_data.loc[ts_data.index[-prediction_length:]]  # Assuming the last rows are the future known covariates"
      ],
      "metadata": {
        "id": "pYSApQc7a-aA"
      },
      "execution_count": 23,
      "outputs": []
    },
    {
      "cell_type": "code",
      "source": [
        "# Extend the future covariates to cover the prediction length\n",
        "future_dates = pd.date_range(start=future_covariates.index[-1][1] + pd.Timedelta(days=1), periods=prediction_length, freq=\"B\")\n",
        "\n",
        "future_covariates_extended = pd.DataFrame(\n",
        "    index=pd.MultiIndex.from_product([['nasdaq'], future_dates], names=['item_id', 'timestamp']),\n",
        "    columns=future_covariates.columns,\n",
        "    data=np.nan\n",
        ")"
      ],
      "metadata": {
        "id": "e5Yngne2iIzr"
      },
      "execution_count": 24,
      "outputs": []
    },
    {
      "cell_type": "code",
      "source": [
        "# Fill NaN values with the last known values\n",
        "future_covariates_extended = future_covariates_extended.ffill().bfill()"
      ],
      "metadata": {
        "id": "d9d74WuAkFdm"
      },
      "execution_count": 25,
      "outputs": []
    },
    {
      "cell_type": "code",
      "source": [
        "# Concatenate the original future covariates with the extended ones\n",
        "future_covariates = pd.concat([future_covariates, future_covariates_extended])"
      ],
      "metadata": {
        "id": "vHAHovQnkFgM"
      },
      "execution_count": 26,
      "outputs": []
    },
    {
      "cell_type": "code",
      "source": [
        "# Make predictions\n",
        "predictions = predictor.predict(ts_data, known_covariates=future_covariates)"
      ],
      "metadata": {
        "colab": {
          "base_uri": "https://localhost:8080/"
        },
        "id": "UU6axf_gkFih",
        "outputId": "d9ddb162-661e-4fe2-a869-169a0d6ad97e"
      },
      "execution_count": 27,
      "outputs": [
        {
          "output_type": "stream",
          "name": "stderr",
          "text": [
            "Model not specified in predict, will default to the model with the best validation score: WeightedEnsemble\n"
          ]
        }
      ]
    },
    {
      "cell_type": "code",
      "source": [
        "predictor.plot(ts_data,predictions=predictions)"
      ],
      "metadata": {
        "colab": {
          "base_uri": "https://localhost:8080/",
          "height": 646
        },
        "id": "0YqJZOliqOjC",
        "outputId": "1a5142bb-6876-469a-9850-07893f8bd163"
      },
      "execution_count": 29,
      "outputs": [
        {
          "output_type": "execute_result",
          "data": {
            "text/plain": [
              "<Figure size 2000x350 with 1 Axes>"
            ],
            "image/png": "[encoded data removed]"
          },
          "metadata": {},
          "execution_count": 29
        },
        {
          "output_type": "display_data",
          "data": {
            "text/plain": [
              "<Figure size 2000x350 with 1 Axes>"
            ],
            "image/png": "[encoded data removed]"
          },
          "metadata": {}
        }
      ]
    },
    {
      "cell_type": "code",
      "source": [
        "# Filter the last year of actual data\n",
        "last_year_data = ts_data.loc[ts_data.index.get_level_values('timestamp') >= (ts_data.index.get_level_values('timestamp').max() - pd.DateOffset(years=1))]\n",
        "\n",
        "# Plot the actual NASDAQ close prices for the last year along with the predicted values and their confidence intervals\n",
        "plt.figure(figsize=(14, 7))\n",
        "\n",
        "# Plot actual values\n",
        "plt.plot(last_year_data.index.get_level_values('timestamp'), last_year_data['nasdaq_close'], label='Actual', color='blue')\n",
        "\n",
        "# Plot predicted mean\n",
        "plt.plot(predictions.index.get_level_values('timestamp'), predictions['mean'], label='Predicted Mean', color='red', linestyle='--')\n",
        "\n",
        "# Fill confidence interval\n",
        "plt.fill_between(\n",
        "    predictions.index.get_level_values('timestamp'),\n",
        "    predictions['0.1'],\n",
        "    predictions['0.9'],\n",
        "    color='gray',\n",
        "    alpha=0.3,\n",
        "    label='90% Confidence Interval'\n",
        ")\n",
        "\n",
        "# Add titles and labels\n",
        "plt.title('NASDAQ Close Prices: Last Year and 30-Day Forecast')\n",
        "plt.xlabel('Date')\n",
        "plt.ylabel('NASDAQ Close Price')\n",
        "plt.legend()\n",
        "plt.grid(True)\n",
        "plt.show()\n"
      ],
      "metadata": {
        "colab": {
          "base_uri": "https://localhost:8080/",
          "height": 641
        },
        "id": "dCuEWmRUiGIp",
        "outputId": "790b59e0-d5c7-466a-ceda-d2c5dc09bf2b"
      },
      "execution_count": 30,
      "outputs": [
        {
          "output_type": "display_data",
          "data": {
            "text/plain": [
              "<Figure size 1400x700 with 1 Axes>"
            ],
            "image/png": "[encoded data removed]"
          },
          "metadata": {}
        }
      ]
    },
    {
      "cell_type": "code",
      "source": [
        "# Combine the datasets based on the 'Date' index\n",
        "combined_data = pd.concat([last_year_data['nasdaq_close'], predictions['mean']])\n",
        "\n",
        "# Reset the index to make 'Date' a regular column\n",
        "combined_data = combined_data.reset_index()\n",
        "\n",
        "# Rename the columns for clarity\n",
        "combined_data.columns = ['item_id','Date', 'Value']\n",
        "\n",
        "# Add a column to distinguish between actual and predicted values\n",
        "combined_data['Type'] = 'Actual'\n",
        "combined_data.loc[combined_data.index >= len(last_year_data), 'Type'] = 'Predicted'\n",
        "\n",
        "combined_data"
      ],
      "metadata": {
        "id": "FxRdHIEca-fe",
        "colab": {
          "base_uri": "https://localhost:8080/",
          "height": 423
        },
        "outputId": "f90f2c53-ab55-4a57-9da2-30c4957a7d55"
      },
      "execution_count": 31,
      "outputs": [
        {
          "output_type": "execute_result",
          "data": {
            "text/plain": [
              "    item_id       Date         Value       Type\n",
              "0    nasdaq 2023-12-12  14533.400391     Actual\n",
              "1    nasdaq 2023-12-13  14733.959961     Actual\n",
              "2    nasdaq 2023-12-14  14761.559570     Actual\n",
              "3    nasdaq 2023-12-15  14813.919922     Actual\n",
              "4    nasdaq 2023-12-18  14904.809570     Actual\n",
              "..      ...        ...           ...        ...\n",
              "288  nasdaq 2025-01-17  20004.184021  Predicted\n",
              "289  nasdaq 2025-01-20  20032.798625  Predicted\n",
              "290  nasdaq 2025-01-21  20072.803345  Predicted\n",
              "291  nasdaq 2025-01-22  20077.231628  Predicted\n",
              "292  nasdaq 2025-01-23  20089.431966  Predicted\n",
              "\n",
              "[293 rows x 4 columns]"
            ],
            "text/html": [
              "\n",
              "  <div id=\"df-0dd83b9a-95da-4e26-b241-a3389a7879f8\" class=\"colab-df-container\">\n",
              "    <div>\n",
              "<style scoped>\n",
              "    .dataframe tbody tr th:only-of-type {\n",
              "        vertical-align: middle;\n",
              "    }\n",
              "\n",
              "    .dataframe tbody tr th {\n",
              "        vertical-align: top;\n",
              "    }\n",
              "\n",
              "    .dataframe thead th {\n",
              "        text-align: right;\n",
              "    }\n",
              "</style>\n",
              "<table border=\"1\" class=\"dataframe\">\n",
              "  <thead>\n",
              "    <tr style=\"text-align: right;\">\n",
              "      <th></th>\n",
              "      <th>item_id</th>\n",
              "      <th>Date</th>\n",
              "      <th>Value</th>\n",
              "      <th>Type</th>\n",
              "    </tr>\n",
              "  </thead>\n",
              "  <tbody>\n",
              "    <tr>\n",
              "      <th>0</th>\n",
              "      <td>nasdaq</td>\n",
              "      <td>2023-12-12</td>\n",
              "      <td>14533.400391</td>\n",
              "      <td>Actual</td>\n",
              "    </tr>\n",
              "    <tr>\n",
              "      <th>1</th>\n",
              "      <td>nasdaq</td>\n",
              "      <td>2023-12-13</td>\n",
              "      <td>14733.959961</td>\n",
              "      <td>Actual</td>\n",
              "    </tr>\n",
              "    <tr>\n",
              "      <th>2</th>\n",
              "      <td>nasdaq</td>\n",
              "      <td>2023-12-14</td>\n",
              "      <td>14761.559570</td>\n",
              "      <td>Actual</td>\n",
              "    </tr>\n",
              "    <tr>\n",
              "      <th>3</th>\n",
              "      <td>nasdaq</td>\n",
              "      <td>2023-12-15</td>\n",
              "      <td>14813.919922</td>\n",
              "      <td>Actual</td>\n",
              "    </tr>\n",
              "    <tr>\n",
              "      <th>4</th>\n",
              "      <td>nasdaq</td>\n",
              "      <td>2023-12-18</td>\n",
              "      <td>14904.809570</td>\n",
              "      <td>Actual</td>\n",
              "    </tr>\n",
              "    <tr>\n",
              "      <th>...</th>\n",
              "      <td>...</td>\n",
              "      <td>...</td>\n",
              "      <td>...</td>\n",
              "      <td>...</td>\n",
              "    </tr>\n",
              "    <tr>\n",
              "      <th>288</th>\n",
              "      <td>nasdaq</td>\n",
              "      <td>2025-01-17</td>\n",
              "      <td>20004.184021</td>\n",
              "      <td>Predicted</td>\n",
              "    </tr>\n",
              "    <tr>\n",
              "      <th>289</th>\n",
              "      <td>nasdaq</td>\n",
              "      <td>2025-01-20</td>\n",
              "      <td>20032.798625</td>\n",
              "      <td>Predicted</td>\n",
              "    </tr>\n",
              "    <tr>\n",
              "      <th>290</th>\n",
              "      <td>nasdaq</td>\n",
              "      <td>2025-01-21</td>\n",
              "      <td>20072.803345</td>\n",
              "      <td>Predicted</td>\n",
              "    </tr>\n",
              "    <tr>\n",
              "      <th>291</th>\n",
              "      <td>nasdaq</td>\n",
              "      <td>2025-01-22</td>\n",
              "      <td>20077.231628</td>\n",
              "      <td>Predicted</td>\n",
              "    </tr>\n",
              "    <tr>\n",
              "      <th>292</th>\n",
              "      <td>nasdaq</td>\n",
              "      <td>2025-01-23</td>\n",
              "      <td>20089.431966</td>\n",
              "      <td>Predicted</td>\n",
              "    </tr>\n",
              "  </tbody>\n",
              "</table>\n",
              "<p>293 rows × 4 columns</p>\n",
              "</div>\n",
              "    <div class=\"colab-df-buttons\">\n",
              "\n",
              "  <div class=\"colab-df-container\">\n",
              "    <button class=\"colab-df-convert\" onclick=\"convertToInteractive('df-0dd83b9a-95da-4e26-b241-a3389a7879f8')\"\n",
              "            title=\"Convert this dataframe to an interactive table.\"\n",
              "            style=\"display:none;\">\n",
              "\n",
              "  <svg xmlns=\"http://www.w3.org/2000/svg\" height=\"24px\" viewBox=\"0 -960 960 960\">\n",
              "    <path d=\"M120-120v-720h720v720H120Zm60-500h600v-160H180v160Zm220 220h160v-160H400v160Zm0 220h160v-160H400v160ZM180-400h160v-160H180v160Zm440 0h160v-160H620v160ZM180-180h160v-160H180v160Zm440 0h160v-160H620v160Z\"/>\n",
              "  </svg>\n",
              "    </button>\n",
              "\n",
              "  <style>\n",
              "    .colab-df-container {\n",
              "      display:flex;\n",
              "      gap: 12px;\n",
              "    }\n",
              "\n",
              "    .colab-df-convert {\n",
              "      background-color: #E8F0FE;\n",
              "      border: none;\n",
              "      border-radius: 50%;\n",
              "      cursor: pointer;\n",
              "      display: none;\n",
              "      fill: #1967D2;\n",
              "      height: 32px;\n",
              "      padding: 0 0 0 0;\n",
              "      width: 32px;\n",
              "    }\n",
              "\n",
              "    .colab-df-convert:hover {\n",
              "      background-color: #E2EBFA;\n",
              "      box-shadow: 0px 1px 2px rgba(60, 64, 67, 0.3), 0px 1px 3px 1px rgba(60, 64, 67, 0.15);\n",
              "      fill: #174EA6;\n",
              "    }\n",
              "\n",
              "    .colab-df-buttons div {\n",
              "      margin-bottom: 4px;\n",
              "    }\n",
              "\n",
              "    [theme=dark] .colab-df-convert {\n",
              "      background-color: #3B4455;\n",
              "      fill: #D2E3FC;\n",
              "    }\n",
              "\n",
              "    [theme=dark] .colab-df-convert:hover {\n",
              "      background-color: #434B5C;\n",
              "      box-shadow: 0px 1px 3px 1px rgba(0, 0, 0, 0.15);\n",
              "      filter: drop-shadow(0px 1px 2px rgba(0, 0, 0, 0.3));\n",
              "      fill: #FFFFFF;\n",
              "    }\n",
              "  </style>\n",
              "\n",
              "    <script>\n",
              "      const buttonEl =\n",
              "        document.querySelector('#df-0dd83b9a-95da-4e26-b241-a3389a7879f8 button.colab-df-convert');\n",
              "      buttonEl.style.display =\n",
              "        google.colab.kernel.accessAllowed ? 'block' : 'none';\n",
              "\n",
              "      async function convertToInteractive(key) {\n",
              "        const element = document.querySelector('#df-0dd83b9a-95da-4e26-b241-a3389a7879f8');\n",
              "        const dataTable =\n",
              "          await google.colab.kernel.invokeFunction('convertToInteractive',\n",
              "                                                    [key], {});\n",
              "        if (!dataTable) return;\n",
              "\n",
              "        const docLinkHtml = 'Like what you see? Visit the ' +\n",
              "          '<a target=\"_blank\" href=https://colab.research.google.com/notebooks/data_table.ipynb>data table notebook</a>'\n",
              "          + ' to learn more about interactive tables.';\n",
              "        element.innerHTML = '';\n",
              "        dataTable['output_type'] = 'display_data';\n",
              "        await google.colab.output.renderOutput(dataTable, element);\n",
              "        const docLink = document.createElement('div');\n",
              "        docLink.innerHTML = docLinkHtml;\n",
              "        element.appendChild(docLink);\n",
              "      }\n",
              "    </script>\n",
              "  </div>\n",
              "\n",
              "\n",
              "<div id=\"df-4f545a40-6b78-4445-a863-7bec0e8e68f0\">\n",
              "  <button class=\"colab-df-quickchart\" onclick=\"quickchart('df-4f545a40-6b78-4445-a863-7bec0e8e68f0')\"\n",
              "            title=\"Suggest charts\"\n",
              "            style=\"display:none;\">\n",
              "\n",
              "<svg xmlns=\"http://www.w3.org/2000/svg\" height=\"24px\"viewBox=\"0 0 24 24\"\n",
              "     width=\"24px\">\n",
              "    <g>\n",
              "        <path d=\"M19 3H5c-1.1 0-2 .9-2 2v14c0 1.1.9 2 2 2h14c1.1 0 2-.9 2-2V5c0-1.1-.9-2-2-2zM9 17H7v-7h2v7zm4 0h-2V7h2v10zm4 0h-2v-4h2v4z\"/>\n",
              "    </g>\n",
              "</svg>\n",
              "  </button>\n",
              "\n",
              "<style>\n",
              "  .colab-df-quickchart {\n",
              "      --bg-color: #E8F0FE;\n",
              "      --fill-color: #1967D2;\n",
              "      --hover-bg-color: #E2EBFA;\n",
              "      --hover-fill-color: #174EA6;\n",
              "      --disabled-fill-color: #AAA;\n",
              "      --disabled-bg-color: #DDD;\n",
              "  }\n",
              "\n",
              "  [theme=dark] .colab-df-quickchart {\n",
              "      --bg-color: #3B4455;\n",
              "      --fill-color: #D2E3FC;\n",
              "      --hover-bg-color: #434B5C;\n",
              "      --hover-fill-color: #FFFFFF;\n",
              "      --disabled-bg-color: #3B4455;\n",
              "      --disabled-fill-color: #666;\n",
              "  }\n",
              "\n",
              "  .colab-df-quickchart {\n",
              "    background-color: var(--bg-color);\n",
              "    border: none;\n",
              "    border-radius: 50%;\n",
              "    cursor: pointer;\n",
              "    display: none;\n",
              "    fill: var(--fill-color);\n",
              "    height: 32px;\n",
              "    padding: 0;\n",
              "    width: 32px;\n",
              "  }\n",
              "\n",
              "  .colab-df-quickchart:hover {\n",
              "    background-color: var(--hover-bg-color);\n",
              "    box-shadow: 0 1px 2px rgba(60, 64, 67, 0.3), 0 1px 3px 1px rgba(60, 64, 67, 0.15);\n",
              "    fill: var(--button-hover-fill-color);\n",
              "  }\n",
              "\n",
              "  .colab-df-quickchart-complete:disabled,\n",
              "  .colab-df-quickchart-complete:disabled:hover {\n",
              "    background-color: var(--disabled-bg-color);\n",
              "    fill: var(--disabled-fill-color);\n",
              "    box-shadow: none;\n",
              "  }\n",
              "\n",
              "  .colab-df-spinner {\n",
              "    border: 2px solid var(--fill-color);\n",
              "    border-color: transparent;\n",
              "    border-bottom-color: var(--fill-color);\n",
              "    animation:\n",
              "      spin 1s steps(1) infinite;\n",
              "  }\n",
              "\n",
              "  @keyframes spin {\n",
              "    0% {\n",
              "      border-color: transparent;\n",
              "      border-bottom-color: var(--fill-color);\n",
              "      border-left-color: var(--fill-color);\n",
              "    }\n",
              "    20% {\n",
              "      border-color: transparent;\n",
              "      border-left-color: var(--fill-color);\n",
              "      border-top-color: var(--fill-color);\n",
              "    }\n",
              "    30% {\n",
              "      border-color: transparent;\n",
              "      border-left-color: var(--fill-color);\n",
              "      border-top-color: var(--fill-color);\n",
              "      border-right-color: var(--fill-color);\n",
              "    }\n",
              "    40% {\n",
              "      border-color: transparent;\n",
              "      border-right-color: var(--fill-color);\n",
              "      border-top-color: var(--fill-color);\n",
              "    }\n",
              "    60% {\n",
              "      border-color: transparent;\n",
              "      border-right-color: var(--fill-color);\n",
              "    }\n",
              "    80% {\n",
              "      border-color: transparent;\n",
              "      border-right-color: var(--fill-color);\n",
              "      border-bottom-color: var(--fill-color);\n",
              "    }\n",
              "    90% {\n",
              "      border-color: transparent;\n",
              "      border-bottom-color: var(--fill-color);\n",
              "    }\n",
              "  }\n",
              "</style>\n",
              "\n",
              "  <script>\n",
              "    async function quickchart(key) {\n",
              "      const quickchartButtonEl =\n",
              "        document.querySelector('#' + key + ' button');\n",
              "      quickchartButtonEl.disabled = true;  // To prevent multiple clicks.\n",
              "      quickchartButtonEl.classList.add('colab-df-spinner');\n",
              "      try {\n",
              "        const charts = await google.colab.kernel.invokeFunction(\n",
              "            'suggestCharts', [key], {});\n",
              "      } catch (error) {\n",
              "        console.error('Error during call to suggestCharts:', error);\n",
              "      }\n",
              "      quickchartButtonEl.classList.remove('colab-df-spinner');\n",
              "      quickchartButtonEl.classList.add('colab-df-quickchart-complete');\n",
              "    }\n",
              "    (() => {\n",
              "      let quickchartButtonEl =\n",
              "        document.querySelector('#df-4f545a40-6b78-4445-a863-7bec0e8e68f0 button');\n",
              "      quickchartButtonEl.style.display =\n",
              "        google.colab.kernel.accessAllowed ? 'block' : 'none';\n",
              "    })();\n",
              "  </script>\n",
              "</div>\n",
              "\n",
              "  <div id=\"id_44018d6f-fb59-4e69-bb31-9e7cd13282ab\">\n",
              "    <style>\n",
              "      .colab-df-generate {\n",
              "        background-color: #E8F0FE;\n",
              "        border: none;\n",
              "        border-radius: 50%;\n",
              "        cursor: pointer;\n",
              "        display: none;\n",
              "        fill: #1967D2;\n",
              "        height: 32px;\n",
              "        padding: 0 0 0 0;\n",
              "        width: 32px;\n",
              "      }\n",
              "\n",
              "      .colab-df-generate:hover {\n",
              "        background-color: #E2EBFA;\n",
              "        box-shadow: 0px 1px 2px rgba(60, 64, 67, 0.3), 0px 1px 3px 1px rgba(60, 64, 67, 0.15);\n",
              "        fill: #174EA6;\n",
              "      }\n",
              "\n",
              "      [theme=dark] .colab-df-generate {\n",
              "        background-color: #3B4455;\n",
              "        fill: #D2E3FC;\n",
              "      }\n",
              "\n",
              "      [theme=dark] .colab-df-generate:hover {\n",
              "        background-color: #434B5C;\n",
              "        box-shadow: 0px 1px 3px 1px rgba(0, 0, 0, 0.15);\n",
              "        filter: drop-shadow(0px 1px 2px rgba(0, 0, 0, 0.3));\n",
              "        fill: #FFFFFF;\n",
              "      }\n",
              "    </style>\n",
              "    <button class=\"colab-df-generate\" onclick=\"generateWithVariable('combined_data')\"\n",
              "            title=\"Generate code using this dataframe.\"\n",
              "            style=\"display:none;\">\n",
              "\n",
              "  <svg xmlns=\"http://www.w3.org/2000/svg\" height=\"24px\"viewBox=\"0 0 24 24\"\n",
              "       width=\"24px\">\n",
              "    <path d=\"M7,19H8.4L18.45,9,17,7.55,7,17.6ZM5,21V16.75L18.45,3.32a2,2,0,0,1,2.83,0l1.4,1.43a1.91,1.91,0,0,1,.58,1.4,1.91,1.91,0,0,1-.58,1.4L9.25,21ZM18.45,9,17,7.55Zm-12,3A5.31,5.31,0,0,0,4.9,8.1,5.31,5.31,0,0,0,1,6.5,5.31,5.31,0,0,0,4.9,4.9,5.31,5.31,0,0,0,6.5,1,5.31,5.31,0,0,0,8.1,4.9,5.31,5.31,0,0,0,12,6.5,5.46,5.46,0,0,0,6.5,12Z\"/>\n",
              "  </svg>\n",
              "    </button>\n",
              "    <script>\n",
              "      (() => {\n",
              "      const buttonEl =\n",
              "        document.querySelector('#id_44018d6f-fb59-4e69-bb31-9e7cd13282ab button.colab-df-generate');\n",
              "      buttonEl.style.display =\n",
              "        google.colab.kernel.accessAllowed ? 'block' : 'none';\n",
              "\n",
              "      buttonEl.onclick = () => {\n",
              "        google.colab.notebook.generateWithVariable('combined_data');\n",
              "      }\n",
              "      })();\n",
              "    </script>\n",
              "  </div>\n",
              "\n",
              "    </div>\n",
              "  </div>\n"
            ],
            "application/vnd.google.colaboratory.intrinsic+json": {
              "type": "dataframe",
              "variable_name": "combined_data",
              "summary": "{\n  \"name\": \"combined_data\",\n  \"rows\": 293,\n  \"fields\": [\n    {\n      \"column\": \"item_id\",\n      \"properties\": {\n        \"dtype\": \"category\",\n        \"num_unique_values\": 1,\n        \"samples\": [\n          \"nasdaq\"\n        ],\n        \"semantic_type\": \"\",\n        \"description\": \"\"\n      }\n    },\n    {\n      \"column\": \"Date\",\n      \"properties\": {\n        \"dtype\": \"date\",\n        \"min\": \"2023-12-12 00:00:00\",\n        \"max\": \"2025-01-23 00:00:00\",\n        \"num_unique_values\": 293,\n        \"samples\": [\n          \"2024-04-08 00:00:00\"\n        ],\n        \"semantic_type\": \"\",\n        \"description\": \"\"\n      }\n    },\n    {\n      \"column\": \"Value\",\n      \"properties\": {\n        \"dtype\": \"number\",\n        \"std\": 1534.7473891959064,\n        \"min\": 14510.2998046875,\n        \"max\": 20089.431966145836,\n        \"num_unique_values\": 283,\n        \"samples\": [\n          15074.5703125\n        ],\n        \"semantic_type\": \"\",\n        \"description\": \"\"\n      }\n    },\n    {\n      \"column\": \"Type\",\n      \"properties\": {\n        \"dtype\": \"category\",\n        \"num_unique_values\": 2,\n        \"samples\": [\n          \"Predicted\"\n        ],\n        \"semantic_type\": \"\",\n        \"description\": \"\"\n      }\n    }\n  ]\n}"
            }
          },
          "metadata": {},
          "execution_count": 31
        }
      ]
    },
    {
      "cell_type": "code",
      "source": [],
      "metadata": {
        "id": "zJQjYjkXquTb"
      },
      "execution_count": 31,
      "outputs": []
    },
    {
      "cell_type": "code",
      "source": [
        "#@title Split Train and Test for further testing\n",
        "train_data, test_data = ts_data.train_test_split(prediction_length=prediction_length)"
      ],
      "metadata": {
        "id": "bwh-68-fe1E-"
      },
      "execution_count": 32,
      "outputs": []
    },
    {
      "cell_type": "code",
      "source": [],
      "metadata": {
        "id": "n_W84b6_qBL4"
      },
      "execution_count": 32,
      "outputs": []
    }
  ],
  "metadata": {
    "colab": {
      "provenance": [],
      "include_colab_link": true
    },
    "kernelspec": {
      "display_name": "Python 3",
      "name": "python3"
    },
    "language_info": {
      "name": "python"
    },
    "widgets": {
      "application/vnd.jupyter.widget-state+json": {
        "91a15c396fd149cab6c6e965479a35df": {
          "model_module": "@jupyter-widgets/controls",
          "model_name": "HBoxModel",
          "model_module_version": "1.5.0",
          "state": {
            "_dom_classes": [],
            "_model_module": "@jupyter-widgets/controls",
            "_model_module_version": "1.5.0",
            "_model_name": "HBoxModel",
            "_view_count": null,
            "_view_module": "@jupyter-widgets/controls",
            "_view_module_version": "1.5.0",
            "_view_name": "HBoxView",
            "box_style": "",
            "children": [
              "IPY_MODEL_56e5c4bf161e476faf4f4a60182e07c3",
              "IPY_MODEL_bde9176bcc804dd2b7c934e29f82647a",
              "IPY_MODEL_c9ba4d3412774439bde9b3085b33f4dc"
            ],
            "layout": "IPY_MODEL_d5dd273f432d4af28fab2f1aabc1da59"
          }
        },
        "56e5c4bf161e476faf4f4a60182e07c3": {
          "model_module": "@jupyter-widgets/controls",
          "model_name": "HTMLModel",
          "model_module_version": "1.5.0",
          "state": {
            "_dom_classes": [],
            "_model_module": "@jupyter-widgets/controls",
            "_model_module_version": "1.5.0",
            "_model_name": "HTMLModel",
            "_view_count": null,
            "_view_module": "@jupyter-widgets/controls",
            "_view_module_version": "1.5.0",
            "_view_name": "HTMLView",
            "description": "",
            "description_tooltip": null,
            "layout": "IPY_MODEL_916035d1b7604788866ca83d9f555860",
            "placeholder": "​",
            "style": "IPY_MODEL_ba73b04366254cf6ac3921c220e51f3a",
            "value": "config.json: 100%"
          }
        },
        "bde9176bcc804dd2b7c934e29f82647a": {
          "model_module": "@jupyter-widgets/controls",
          "model_name": "FloatProgressModel",
          "model_module_version": "1.5.0",
          "state": {
            "_dom_classes": [],
            "_model_module": "@jupyter-widgets/controls",
            "_model_module_version": "1.5.0",
            "_model_name": "FloatProgressModel",
            "_view_count": null,
            "_view_module": "@jupyter-widgets/controls",
            "_view_module_version": "1.5.0",
            "_view_name": "ProgressView",
            "bar_style": "success",
            "description": "",
            "description_tooltip": null,
            "layout": "IPY_MODEL_6f7330d851f1447598788e6f8cadf4c6",
            "max": 1121,
            "min": 0,
            "orientation": "horizontal",
            "style": "IPY_MODEL_b20fad7e503a4e0e81c8292bfc8f412a",
            "value": 1121
          }
        },
        "c9ba4d3412774439bde9b3085b33f4dc": {
          "model_module": "@jupyter-widgets/controls",
          "model_name": "HTMLModel",
          "model_module_version": "1.5.0",
          "state": {
            "_dom_classes": [],
            "_model_module": "@jupyter-widgets/controls",
            "_model_module_version": "1.5.0",
            "_model_name": "HTMLModel",
            "_view_count": null,
            "_view_module": "@jupyter-widgets/controls",
            "_view_module_version": "1.5.0",
            "_view_name": "HTMLView",
            "description": "",
            "description_tooltip": null,
            "layout": "IPY_MODEL_b895dc37016545d8a9b3005ab3329bcb",
            "placeholder": "​",
            "style": "IPY_MODEL_8be011d0799d45bfb5bcba73e62e4dc7",
            "value": " 1.12k/1.12k [00:00&lt;00:00, 60.0kB/s]"
          }
        },
        "d5dd273f432d4af28fab2f1aabc1da59": {
          "model_module": "@jupyter-widgets/base",
          "model_name": "LayoutModel",
          "model_module_version": "1.2.0",
          "state": {
            "_model_module": "@jupyter-widgets/base",
            "_model_module_version": "1.2.0",
            "_model_name": "LayoutModel",
            "_view_count": null,
            "_view_module": "@jupyter-widgets/base",
            "_view_module_version": "1.2.0",
            "_view_name": "LayoutView",
            "align_content": null,
            "align_items": null,
            "align_self": null,
            "border": null,
            "bottom": null,
            "display": null,
            "flex": null,
            "flex_flow": null,
            "grid_area": null,
            "grid_auto_columns": null,
            "grid_auto_flow": null,
            "grid_auto_rows": null,
            "grid_column": null,
            "grid_gap": null,
            "grid_row": null,
            "grid_template_areas": null,
            "grid_template_columns": null,
            "grid_template_rows": null,
            "height": null,
            "justify_content": null,
            "justify_items": null,
            "left": null,
            "margin": null,
            "max_height": null,
            "max_width": null,
            "min_height": null,
            "min_width": null,
            "object_fit": null,
            "object_position": null,
            "order": null,
            "overflow": null,
            "overflow_x": null,
            "overflow_y": null,
            "padding": null,
            "right": null,
            "top": null,
            "visibility": null,
            "width": null
          }
        },
        "916035d1b7604788866ca83d9f555860": {
          "model_module": "@jupyter-widgets/base",
          "model_name": "LayoutModel",
          "model_module_version": "1.2.0",
          "state": {
            "_model_module": "@jupyter-widgets/base",
            "_model_module_version": "1.2.0",
            "_model_name": "LayoutModel",
            "_view_count": null,
            "_view_module": "@jupyter-widgets/base",
            "_view_module_version": "1.2.0",
            "_view_name": "LayoutView",
            "align_content": null,
            "align_items": null,
            "align_self": null,
            "border": null,
            "bottom": null,
            "display": null,
            "flex": null,
            "flex_flow": null,
            "grid_area": null,
            "grid_auto_columns": null,
            "grid_auto_flow": null,
            "grid_auto_rows": null,
            "grid_column": null,
            "grid_gap": null,
            "grid_row": null,
            "grid_template_areas": null,
            "grid_template_columns": null,
            "grid_template_rows": null,
            "height": null,
            "justify_content": null,
            "justify_items": null,
            "left": null,
            "margin": null,
            "max_height": null,
            "max_width": null,
            "min_height": null,
            "min_width": null,
            "object_fit": null,
            "object_position": null,
            "order": null,
            "overflow": null,
            "overflow_x": null,
            "overflow_y": null,
            "padding": null,
            "right": null,
            "top": null,
            "visibility": null,
            "width": null
          }
        },
        "ba73b04366254cf6ac3921c220e51f3a": {
          "model_module": "@jupyter-widgets/controls",
          "model_name": "DescriptionStyleModel",
          "model_module_version": "1.5.0",
          "state": {
            "_model_module": "@jupyter-widgets/controls",
            "_model_module_version": "1.5.0",
            "_model_name": "DescriptionStyleModel",
            "_view_count": null,
            "_view_module": "@jupyter-widgets/base",
            "_view_module_version": "1.2.0",
            "_view_name": "StyleView",
            "description_width": ""
          }
        },
        "6f7330d851f1447598788e6f8cadf4c6": {
          "model_module": "@jupyter-widgets/base",
          "model_name": "LayoutModel",
          "model_module_version": "1.2.0",
          "state": {
            "_model_module": "@jupyter-widgets/base",
            "_model_module_version": "1.2.0",
            "_model_name": "LayoutModel",
            "_view_count": null,
            "_view_module": "@jupyter-widgets/base",
            "_view_module_version": "1.2.0",
            "_view_name": "LayoutView",
            "align_content": null,
            "align_items": null,
            "align_self": null,
            "border": null,
            "bottom": null,
            "display": null,
            "flex": null,
            "flex_flow": null,
            "grid_area": null,
            "grid_auto_columns": null,
            "grid_auto_flow": null,
            "grid_auto_rows": null,
            "grid_column": null,
            "grid_gap": null,
            "grid_row": null,
            "grid_template_areas": null,
            "grid_template_columns": null,
            "grid_template_rows": null,
            "height": null,
            "justify_content": null,
            "justify_items": null,
            "left": null,
            "margin": null,
            "max_height": null,
            "max_width": null,
            "min_height": null,
            "min_width": null,
            "object_fit": null,
            "object_position": null,
            "order": null,
            "overflow": null,
            "overflow_x": null,
            "overflow_y": null,
            "padding": null,
            "right": null,
            "top": null,
            "visibility": null,
            "width": null
          }
        },
        "b20fad7e503a4e0e81c8292bfc8f412a": {
          "model_module": "@jupyter-widgets/controls",
          "model_name": "ProgressStyleModel",
          "model_module_version": "1.5.0",
          "state": {
            "_model_module": "@jupyter-widgets/controls",
            "_model_module_version": "1.5.0",
            "_model_name": "ProgressStyleModel",
            "_view_count": null,
            "_view_module": "@jupyter-widgets/base",
            "_view_module_version": "1.2.0",
            "_view_name": "StyleView",
            "bar_color": null,
            "description_width": ""
          }
        },
        "b895dc37016545d8a9b3005ab3329bcb": {
          "model_module": "@jupyter-widgets/base",
          "model_name": "LayoutModel",
          "model_module_version": "1.2.0",
          "state": {
            "_model_module": "@jupyter-widgets/base",
            "_model_module_version": "1.2.0",
            "_model_name": "LayoutModel",
            "_view_count": null,
            "_view_module": "@jupyter-widgets/base",
            "_view_module_version": "1.2.0",
            "_view_name": "LayoutView",
            "align_content": null,
            "align_items": null,
            "align_self": null,
            "border": null,
            "bottom": null,
            "display": null,
            "flex": null,
            "flex_flow": null,
            "grid_area": null,
            "grid_auto_columns": null,
            "grid_auto_flow": null,
            "grid_auto_rows": null,
            "grid_column": null,
            "grid_gap": null,
            "grid_row": null,
            "grid_template_areas": null,
            "grid_template_columns": null,
            "grid_template_rows": null,
            "height": null,
            "justify_content": null,
            "justify_items": null,
            "left": null,
            "margin": null,
            "max_height": null,
            "max_width": null,
            "min_height": null,
            "min_width": null,
            "object_fit": null,
            "object_position": null,
            "order": null,
            "overflow": null,
            "overflow_x": null,
            "overflow_y": null,
            "padding": null,
            "right": null,
            "top": null,
            "visibility": null,
            "width": null
          }
        },
        "8be011d0799d45bfb5bcba73e62e4dc7": {
          "model_module": "@jupyter-widgets/controls",
          "model_name": "DescriptionStyleModel",
          "model_module_version": "1.5.0",
          "state": {
            "_model_module": "@jupyter-widgets/controls",
            "_model_module_version": "1.5.0",
            "_model_name": "DescriptionStyleModel",
            "_view_count": null,
            "_view_module": "@jupyter-widgets/base",
            "_view_module_version": "1.2.0",
            "_view_name": "StyleView",
            "description_width": ""
          }
        },
        "a81022b4d7ef4f5aaebeed347e7fe0cf": {
          "model_module": "@jupyter-widgets/controls",
          "model_name": "HBoxModel",
          "model_module_version": "1.5.0",
          "state": {
            "_dom_classes": [],
            "_model_module": "@jupyter-widgets/controls",
            "_model_module_version": "1.5.0",
            "_model_name": "HBoxModel",
            "_view_count": null,
            "_view_module": "@jupyter-widgets/controls",
            "_view_module_version": "1.5.0",
            "_view_name": "HBoxView",
            "box_style": "",
            "children": [
              "IPY_MODEL_5a2a5945a6984acca3e3e7d43c550369",
              "IPY_MODEL_170f78311f6d4596921232088a5c44c1",
              "IPY_MODEL_083cf5246f91453d86c8f64fff30d1db"
            ],
            "layout": "IPY_MODEL_0e6396e540614e8ab770c3008fd03fbf"
          }
        },
        "5a2a5945a6984acca3e3e7d43c550369": {
          "model_module": "@jupyter-widgets/controls",
          "model_name": "HTMLModel",
          "model_module_version": "1.5.0",
          "state": {
            "_dom_classes": [],
            "_model_module": "@jupyter-widgets/controls",
            "_model_module_version": "1.5.0",
            "_model_name": "HTMLModel",
            "_view_count": null,
            "_view_module": "@jupyter-widgets/controls",
            "_view_module_version": "1.5.0",
            "_view_name": "HTMLView",
            "description": "",
            "description_tooltip": null,
            "layout": "IPY_MODEL_62287c41f2de46a2b4821a6e453e5756",
            "placeholder": "​",
            "style": "IPY_MODEL_0436cfbf94be4f72a81d280f356f2799",
            "value": "model.safetensors: 100%"
          }
        },
        "170f78311f6d4596921232088a5c44c1": {
          "model_module": "@jupyter-widgets/controls",
          "model_name": "FloatProgressModel",
          "model_module_version": "1.5.0",
          "state": {
            "_dom_classes": [],
            "_model_module": "@jupyter-widgets/controls",
            "_model_module_version": "1.5.0",
            "_model_name": "FloatProgressModel",
            "_view_count": null,
            "_view_module": "@jupyter-widgets/controls",
            "_view_module_version": "1.5.0",
            "_view_name": "ProgressView",
            "bar_style": "success",
            "description": "",
            "description_tooltip": null,
            "layout": "IPY_MODEL_b30f05f4cde04e9589a9ec2a03ae13f5",
            "max": 190888824,
            "min": 0,
            "orientation": "horizontal",
            "style": "IPY_MODEL_fb8b888adedd4240b8d5db77ddffbf97",
            "value": 190888824
          }
        },
        "083cf5246f91453d86c8f64fff30d1db": {
          "model_module": "@jupyter-widgets/controls",
          "model_name": "HTMLModel",
          "model_module_version": "1.5.0",
          "state": {
            "_dom_classes": [],
            "_model_module": "@jupyter-widgets/controls",
            "_model_module_version": "1.5.0",
            "_model_name": "HTMLModel",
            "_view_count": null,
            "_view_module": "@jupyter-widgets/controls",
            "_view_module_version": "1.5.0",
            "_view_name": "HTMLView",
            "description": "",
            "description_tooltip": null,
            "layout": "IPY_MODEL_609c520cfc6a40a3b823513629818b92",
            "placeholder": "​",
            "style": "IPY_MODEL_0559a22197684365b1dec7bb7b82a2e5",
            "value": " 191M/191M [00:04&lt;00:00, 42.4MB/s]"
          }
        },
        "0e6396e540614e8ab770c3008fd03fbf": {
          "model_module": "@jupyter-widgets/base",
          "model_name": "LayoutModel",
          "model_module_version": "1.2.0",
          "state": {
            "_model_module": "@jupyter-widgets/base",
            "_model_module_version": "1.2.0",
            "_model_name": "LayoutModel",
            "_view_count": null,
            "_view_module": "@jupyter-widgets/base",
            "_view_module_version": "1.2.0",
            "_view_name": "LayoutView",
            "align_content": null,
            "align_items": null,
            "align_self": null,
            "border": null,
            "bottom": null,
            "display": null,
            "flex": null,
            "flex_flow": null,
            "grid_area": null,
            "grid_auto_columns": null,
            "grid_auto_flow": null,
            "grid_auto_rows": null,
            "grid_column": null,
            "grid_gap": null,
            "grid_row": null,
            "grid_template_areas": null,
            "grid_template_columns": null,
            "grid_template_rows": null,
            "height": null,
            "justify_content": null,
            "justify_items": null,
            "left": null,
            "margin": null,
            "max_height": null,
            "max_width": null,
            "min_height": null,
            "min_width": null,
            "object_fit": null,
            "object_position": null,
            "order": null,
            "overflow": null,
            "overflow_x": null,
            "overflow_y": null,
            "padding": null,
            "right": null,
            "top": null,
            "visibility": null,
            "width": null
          }
        },
        "62287c41f2de46a2b4821a6e453e5756": {
          "model_module": "@jupyter-widgets/base",
          "model_name": "LayoutModel",
          "model_module_version": "1.2.0",
          "state": {
            "_model_module": "@jupyter-widgets/base",
            "_model_module_version": "1.2.0",
            "_model_name": "LayoutModel",
            "_view_count": null,
            "_view_module": "@jupyter-widgets/base",
            "_view_module_version": "1.2.0",
            "_view_name": "LayoutView",
            "align_content": null,
            "align_items": null,
            "align_self": null,
            "border": null,
            "bottom": null,
            "display": null,
            "flex": null,
            "flex_flow": null,
            "grid_area": null,
            "grid_auto_columns": null,
            "grid_auto_flow": null,
            "grid_auto_rows": null,
            "grid_column": null,
            "grid_gap": null,
            "grid_row": null,
            "grid_template_areas": null,
            "grid_template_columns": null,
            "grid_template_rows": null,
            "height": null,
            "justify_content": null,
            "justify_items": null,
            "left": null,
            "margin": null,
            "max_height": null,
            "max_width": null,
            "min_height": null,
            "min_width": null,
            "object_fit": null,
            "object_position": null,
            "order": null,
            "overflow": null,
            "overflow_x": null,
            "overflow_y": null,
            "padding": null,
            "right": null,
            "top": null,
            "visibility": null,
            "width": null
          }
        },
        "0436cfbf94be4f72a81d280f356f2799": {
          "model_module": "@jupyter-widgets/controls",
          "model_name": "DescriptionStyleModel",
          "model_module_version": "1.5.0",
          "state": {
            "_model_module": "@jupyter-widgets/controls",
            "_model_module_version": "1.5.0",
            "_model_name": "DescriptionStyleModel",
            "_view_count": null,
            "_view_module": "@jupyter-widgets/base",
            "_view_module_version": "1.2.0",
            "_view_name": "StyleView",
            "description_width": ""
          }
        },
        "b30f05f4cde04e9589a9ec2a03ae13f5": {
          "model_module": "@jupyter-widgets/base",
          "model_name": "LayoutModel",
          "model_module_version": "1.2.0",
          "state": {
            "_model_module": "@jupyter-widgets/base",
            "_model_module_version": "1.2.0",
            "_model_name": "LayoutModel",
            "_view_count": null,
            "_view_module": "@jupyter-widgets/base",
            "_view_module_version": "1.2.0",
            "_view_name": "LayoutView",
            "align_content": null,
            "align_items": null,
            "align_self": null,
            "border": null,
            "bottom": null,
            "display": null,
            "flex": null,
            "flex_flow": null,
            "grid_area": null,
            "grid_auto_columns": null,
            "grid_auto_flow": null,
            "grid_auto_rows": null,
            "grid_column": null,
            "grid_gap": null,
            "grid_row": null,
            "grid_template_areas": null,
            "grid_template_columns": null,
            "grid_template_rows": null,
            "height": null,
            "justify_content": null,
            "justify_items": null,
            "left": null,
            "margin": null,
            "max_height": null,
            "max_width": null,
            "min_height": null,
            "min_width": null,
            "object_fit": null,
            "object_position": null,
            "order": null,
            "overflow": null,
            "overflow_x": null,
            "overflow_y": null,
            "padding": null,
            "right": null,
            "top": null,
            "visibility": null,
            "width": null
          }
        },
        "fb8b888adedd4240b8d5db77ddffbf97": {
          "model_module": "@jupyter-widgets/controls",
          "model_name": "ProgressStyleModel",
          "model_module_version": "1.5.0",
          "state": {
            "_model_module": "@jupyter-widgets/controls",
            "_model_module_version": "1.5.0",
            "_model_name": "ProgressStyleModel",
            "_view_count": null,
            "_view_module": "@jupyter-widgets/base",
            "_view_module_version": "1.2.0",
            "_view_name": "StyleView",
            "bar_color": null,
            "description_width": ""
          }
        },
        "609c520cfc6a40a3b823513629818b92": {
          "model_module": "@jupyter-widgets/base",
          "model_name": "LayoutModel",
          "model_module_version": "1.2.0",
          "state": {
            "_model_module": "@jupyter-widgets/base",
            "_model_module_version": "1.2.0",
            "_model_name": "LayoutModel",
            "_view_count": null,
            "_view_module": "@jupyter-widgets/base",
            "_view_module_version": "1.2.0",
            "_view_name": "LayoutView",
            "align_content": null,
            "align_items": null,
            "align_self": null,
            "border": null,
            "bottom": null,
            "display": null,
            "flex": null,
            "flex_flow": null,
            "grid_area": null,
            "grid_auto_columns": null,
            "grid_auto_flow": null,
            "grid_auto_rows": null,
            "grid_column": null,
            "grid_gap": null,
            "grid_row": null,
            "grid_template_areas": null,
            "grid_template_columns": null,
            "grid_template_rows": null,
            "height": null,
            "justify_content": null,
            "justify_items": null,
            "left": null,
            "margin": null,
            "max_height": null,
            "max_width": null,
            "min_height": null,
            "min_width": null,
            "object_fit": null,
            "object_position": null,
            "order": null,
            "overflow": null,
            "overflow_x": null,
            "overflow_y": null,
            "padding": null,
            "right": null,
            "top": null,
            "visibility": null,
            "width": null
          }
        },
        "0559a22197684365b1dec7bb7b82a2e5": {
          "model_module": "@jupyter-widgets/controls",
          "model_name": "DescriptionStyleModel",
          "model_module_version": "1.5.0",
          "state": {
            "_model_module": "@jupyter-widgets/controls",
            "_model_module_version": "1.5.0",
            "_model_name": "DescriptionStyleModel",
            "_view_count": null,
            "_view_module": "@jupyter-widgets/base",
            "_view_module_version": "1.2.0",
            "_view_name": "StyleView",
            "description_width": ""
          }
        }
      }
    }
  },
  "nbformat": 4,
  "nbformat_minor": 0
}